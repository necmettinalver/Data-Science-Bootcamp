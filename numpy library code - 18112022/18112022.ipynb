{
 "cells": [
  {
   "cell_type": "code",
   "execution_count": 2,
   "metadata": {},
   "outputs": [],
   "source": [
    "import numpy as np"
   ]
  },
  {
   "cell_type": "code",
   "execution_count": 3,
   "metadata": {},
   "outputs": [],
   "source": [
    "import warnings"
   ]
  },
  {
   "cell_type": "code",
   "execution_count": 4,
   "metadata": {},
   "outputs": [],
   "source": [
    "warnings.filterwarnings(\"ignore\")"
   ]
  },
  {
   "cell_type": "code",
   "execution_count": 5,
   "metadata": {},
   "outputs": [
    {
     "data": {
      "text/plain": [
       "array([10, 20, 30])"
      ]
     },
     "execution_count": 5,
     "metadata": {},
     "output_type": "execute_result"
    }
   ],
   "source": [
    "b = np.array([10,10,10,20,30,20,30,30,20,10,10,30,10])\n",
    "np.unique(b)"
   ]
  },
  {
   "cell_type": "code",
   "execution_count": 6,
   "metadata": {},
   "outputs": [
    {
     "data": {
      "text/plain": [
       "(array([10, 20, 30]), array([6, 3, 4], dtype=int64))"
      ]
     },
     "execution_count": 6,
     "metadata": {},
     "output_type": "execute_result"
    }
   ],
   "source": [
    "val, count = np.unique(b,return_counts=True)\n",
    "val,count"
   ]
  },
  {
   "cell_type": "code",
   "execution_count": 7,
   "metadata": {},
   "outputs": [
    {
     "data": {
      "text/plain": [
       "10"
      ]
     },
     "execution_count": 7,
     "metadata": {},
     "output_type": "execute_result"
    }
   ],
   "source": [
    "np.bincount(b).argmax()"
   ]
  },
  {
   "cell_type": "code",
   "execution_count": 8,
   "metadata": {},
   "outputs": [
    {
     "data": {
      "text/plain": [
       "array([10, 20, 30, 40, 50, 60, 70, 80, 90])"
      ]
     },
     "execution_count": 8,
     "metadata": {},
     "output_type": "execute_result"
    }
   ],
   "source": [
    "d5 = np.arange(10,100,10)\n",
    "d5"
   ]
  },
  {
   "cell_type": "code",
   "execution_count": 9,
   "metadata": {},
   "outputs": [],
   "source": [
    "d5.flags.writeable=False"
   ]
  },
  {
   "cell_type": "code",
   "execution_count": 10,
   "metadata": {},
   "outputs": [
    {
     "ename": "ValueError",
     "evalue": "assignment destination is read-only",
     "output_type": "error",
     "traceback": [
      "\u001b[1;31m---------------------------------------------------------------------------\u001b[0m",
      "\u001b[1;31mValueError\u001b[0m                                Traceback (most recent call last)",
      "Cell \u001b[1;32mIn [10], line 1\u001b[0m\n\u001b[1;32m----> 1\u001b[0m d5[\u001b[39m0\u001b[39m]\u001b[39m=\u001b[39m\u001b[39m99\u001b[39m\n",
      "\u001b[1;31mValueError\u001b[0m: assignment destination is read-only"
     ]
    }
   ],
   "source": [
    "d5[0]=99"
   ]
  },
  {
   "cell_type": "code",
   "execution_count": null,
   "metadata": {},
   "outputs": [],
   "source": [
    "#yükleme ve kaydetme (Load & Save)"
   ]
  },
  {
   "cell_type": "code",
   "execution_count": 12,
   "metadata": {},
   "outputs": [],
   "source": [
    "p4 = np.loadtxt('data/sample.txt', dtype=np.integer)"
   ]
  },
  {
   "cell_type": "code",
   "execution_count": 17,
   "metadata": {},
   "outputs": [
    {
     "name": "stdout",
     "output_type": "stream",
     "text": [
      "[[24 29 88]\n",
      " [ 1  0  8]\n",
      " [33  7 99]\n",
      " [39 11 98]\n",
      " [22 76 87]]\n"
     ]
    }
   ],
   "source": [
    "print(p4)"
   ]
  },
  {
   "cell_type": "code",
   "execution_count": 18,
   "metadata": {},
   "outputs": [],
   "source": [
    "p5 = np.genfromtxt('data/sample0.txt',dtype='str')"
   ]
  },
  {
   "cell_type": "code",
   "execution_count": 21,
   "metadata": {},
   "outputs": [
    {
     "data": {
      "text/plain": [
       "array([['Dogu', 'Turkey', 'Football'],\n",
       "       ['John', 'USA', 'Hockey'],\n",
       "       ['Paul', 'Canada', 'Basketball']], dtype='<U10')"
      ]
     },
     "execution_count": 21,
     "metadata": {},
     "output_type": "execute_result"
    }
   ],
   "source": [
    "p5"
   ]
  },
  {
   "cell_type": "code",
   "execution_count": 23,
   "metadata": {},
   "outputs": [
    {
     "data": {
      "text/plain": [
       "array([[24., 88.],\n",
       "       [ 1.,  8.],\n",
       "       [33., 99.],\n",
       "       [39., 98.],\n",
       "       [22., 87.]])"
      ]
     },
     "execution_count": 23,
     "metadata": {},
     "output_type": "execute_result"
    }
   ],
   "source": [
    "np.loadtxt('data/sample.txt',usecols=(0,2))#istediğim sütünları aldım"
   ]
  },
  {
   "cell_type": "code",
   "execution_count": 25,
   "metadata": {},
   "outputs": [
    {
     "data": {
      "text/plain": [
       "array([ 10,  21,  32,  43,  54,  65,  76,  87,  98, 109, 120, 131, 142,\n",
       "       153, 164, 175, 186, 197])"
      ]
     },
     "execution_count": 25,
     "metadata": {},
     "output_type": "execute_result"
    }
   ],
   "source": [
    "p7 = np.arange(10,200,11)\n",
    "p7"
   ]
  },
  {
   "cell_type": "code",
   "execution_count": 45,
   "metadata": {},
   "outputs": [],
   "source": [
    "np.savetxt('number.csv', p7, delimiter=',',fmt='%.2f')"
   ]
  },
  {
   "cell_type": "code",
   "execution_count": 28,
   "metadata": {},
   "outputs": [
    {
     "data": {
      "text/plain": [
       "array([[  0,   1,   2,   3,   4,   5,   6,   7,   8,   9,  10],\n",
       "       [ 11,  12,  13,  14,  15,  16,  17,  18,  19,  20,  21],\n",
       "       [ 22,  23,  24,  25,  26,  27,  28,  29,  30,  31,  32],\n",
       "       [ 33,  34,  35,  36,  37,  38,  39,  40,  41,  42,  43],\n",
       "       [ 44,  45,  46,  47,  48,  49,  50,  51,  52,  53,  54],\n",
       "       [ 55,  56,  57,  58,  59,  60,  61,  62,  63,  64,  65],\n",
       "       [ 66,  67,  68,  69,  70,  71,  72,  73,  74,  75,  76],\n",
       "       [ 77,  78,  79,  80,  81,  82,  83,  84,  85,  86,  87],\n",
       "       [ 88,  89,  90,  91,  92,  93,  94,  95,  96,  97,  98],\n",
       "       [ 99, 100, 101, 102, 103, 104, 105, 106, 107, 108, 109],\n",
       "       [110, 111, 112, 113, 114, 115, 116, 117, 118, 119, 120]])"
      ]
     },
     "execution_count": 28,
     "metadata": {},
     "output_type": "execute_result"
    }
   ],
   "source": [
    "p8 = np.arange(0,121).reshape(11,11)\n",
    "p8"
   ]
  },
  {
   "cell_type": "markdown",
   "metadata": {},
   "source": []
  },
  {
   "cell_type": "code",
   "execution_count": 29,
   "metadata": {},
   "outputs": [],
   "source": [
    "np.save('matrix.npy',p8)"
   ]
  },
  {
   "cell_type": "code",
   "execution_count": 30,
   "metadata": {},
   "outputs": [
    {
     "data": {
      "text/plain": [
       "array([[  0,   1,   2,   3,   4,   5,   6,   7,   8,   9,  10],\n",
       "       [ 11,  12,  13,  14,  15,  16,  17,  18,  19,  20,  21],\n",
       "       [ 22,  23,  24,  25,  26,  27,  28,  29,  30,  31,  32],\n",
       "       [ 33,  34,  35,  36,  37,  38,  39,  40,  41,  42,  43],\n",
       "       [ 44,  45,  46,  47,  48,  49,  50,  51,  52,  53,  54],\n",
       "       [ 55,  56,  57,  58,  59,  60,  61,  62,  63,  64,  65],\n",
       "       [ 66,  67,  68,  69,  70,  71,  72,  73,  74,  75,  76],\n",
       "       [ 77,  78,  79,  80,  81,  82,  83,  84,  85,  86,  87],\n",
       "       [ 88,  89,  90,  91,  92,  93,  94,  95,  96,  97,  98],\n",
       "       [ 99, 100, 101, 102, 103, 104, 105, 106, 107, 108, 109],\n",
       "       [110, 111, 112, 113, 114, 115, 116, 117, 118, 119, 120]])"
      ]
     },
     "execution_count": 30,
     "metadata": {},
     "output_type": "execute_result"
    }
   ],
   "source": [
    "p9 = np.load('matrix.npy')\n",
    "p9"
   ]
  },
  {
   "cell_type": "code",
   "execution_count": 31,
   "metadata": {},
   "outputs": [
    {
     "data": {
      "text/plain": [
       "array([[     0,      1,      2, ...,    997,    998,    999],\n",
       "       [  1000,   1001,   1002, ...,   1997,   1998,   1999],\n",
       "       [  2000,   2001,   2002, ...,   2997,   2998,   2999],\n",
       "       ...,\n",
       "       [997000, 997001, 997002, ..., 997997, 997998, 997999],\n",
       "       [998000, 998001, 998002, ..., 998997, 998998, 998999],\n",
       "       [999000, 999001, 999002, ..., 999997, 999998, 999999]])"
      ]
     },
     "execution_count": 31,
     "metadata": {},
     "output_type": "execute_result"
    }
   ],
   "source": [
    "p11 = np.arange(0,1000000).reshape(1000,1000)\n",
    "p11"
   ]
  },
  {
   "cell_type": "code",
   "execution_count": 32,
   "metadata": {},
   "outputs": [],
   "source": [
    "np.savez_compressed('compressed_bigmatrix.npz',p11)"
   ]
  },
  {
   "cell_type": "code",
   "execution_count": 33,
   "metadata": {},
   "outputs": [],
   "source": [
    "np.save('non_compressed_bigmatrix.npy',p11)"
   ]
  },
  {
   "cell_type": "code",
   "execution_count": 34,
   "metadata": {},
   "outputs": [],
   "source": [
    "from IPython.display import Image"
   ]
  },
  {
   "cell_type": "code",
   "execution_count": 36,
   "metadata": {},
   "outputs": [
    {
     "data": {
      "image/png": "[encoded data removed]",
      "text/plain": [
       "<IPython.core.display.Image object>"
      ]
     },
     "execution_count": 36,
     "metadata": {},
     "output_type": "execute_result"
    }
   ],
   "source": [
    "Image(filename='size.PNG')"
   ]
  },
  {
   "cell_type": "markdown",
   "metadata": {},
   "source": [
    "Print Options"
   ]
  },
  {
   "cell_type": "code",
   "execution_count": 37,
   "metadata": {},
   "outputs": [
    {
     "data": {
      "text/plain": [
       "array([12.2012, 90.9124])"
      ]
     },
     "execution_count": 37,
     "metadata": {},
     "output_type": "execute_result"
    }
   ],
   "source": [
    "np.set_printoptions(precision=4)\n",
    "a = np.array([12.201249030923,90.91239090124])\n",
    "a"
   ]
  },
  {
   "cell_type": "code",
   "execution_count": 38,
   "metadata": {},
   "outputs": [
    {
     "data": {
      "text/plain": [
       "array([12.2 , 90.91])"
      ]
     },
     "execution_count": 38,
     "metadata": {},
     "output_type": "execute_result"
    }
   ],
   "source": [
    "np.set_printoptions(precision=2)\n",
    "a = np.array([12.201249030923,90.91239090124])\n",
    "a"
   ]
  },
  {
   "cell_type": "code",
   "execution_count": 49,
   "metadata": {},
   "outputs": [
    {
     "data": {
      "text/plain": [
       "array([  0,   1,   2, ..., 197, 198, 199])"
      ]
     },
     "execution_count": 49,
     "metadata": {},
     "output_type": "execute_result"
    }
   ],
   "source": [
    "np.set_printoptions(threshold=1)\n",
    "np.arange(200)"
   ]
  },
  {
   "cell_type": "code",
   "execution_count": 50,
   "metadata": {},
   "outputs": [
    {
     "data": {
      "text/plain": [
       "array([  0,   1,   2,   3,   4,   5,   6,   7,   8,   9,  10,  11,  12,\n",
       "        13,  14,  15,  16,  17,  18,  19,  20,  21,  22,  23,  24,  25,\n",
       "        26,  27,  28,  29,  30,  31,  32,  33,  34,  35,  36,  37,  38,\n",
       "        39,  40,  41,  42,  43,  44,  45,  46,  47,  48,  49,  50,  51,\n",
       "        52,  53,  54,  55,  56,  57,  58,  59,  60,  61,  62,  63,  64,\n",
       "        65,  66,  67,  68,  69,  70,  71,  72,  73,  74,  75,  76,  77,\n",
       "        78,  79,  80,  81,  82,  83,  84,  85,  86,  87,  88,  89,  90,\n",
       "        91,  92,  93,  94,  95,  96,  97,  98,  99, 100, 101, 102, 103,\n",
       "       104, 105, 106, 107, 108, 109, 110, 111, 112, 113, 114, 115, 116,\n",
       "       117, 118, 119, 120, 121, 122, 123, 124, 125, 126, 127, 128, 129,\n",
       "       130, 131, 132, 133, 134, 135, 136, 137, 138, 139, 140, 141, 142,\n",
       "       143, 144, 145, 146, 147, 148, 149, 150, 151, 152, 153, 154, 155,\n",
       "       156, 157, 158, 159, 160, 161, 162, 163, 164, 165, 166, 167, 168,\n",
       "       169, 170, 171, 172, 173, 174, 175, 176, 177, 178, 179, 180, 181,\n",
       "       182, 183, 184, 185, 186, 187, 188, 189, 190, 191, 192, 193, 194,\n",
       "       195, 196, 197, 198, 199])"
      ]
     },
     "execution_count": 50,
     "metadata": {},
     "output_type": "execute_result"
    }
   ],
   "source": [
    "np.set_printoptions(threshold=np.inf)\n",
    "np.arange(200)"
   ]
  },
  {
   "cell_type": "markdown",
   "metadata": {},
   "source": [
    "Vector operations"
   ]
  },
  {
   "cell_type": "code",
   "execution_count": 51,
   "metadata": {},
   "outputs": [
    {
     "name": "stdout",
     "output_type": "stream",
     "text": [
      "V3 =  [4 6]\n"
     ]
    }
   ],
   "source": [
    "v1 = np.array([1,2])\n",
    "v2 = np.array([3,4])\n",
    "v3 = v1 + v2\n",
    "#or\n",
    "v3 = np.add(v1,v2)\n",
    "print('V3 = ',v3)"
   ]
  },
  {
   "cell_type": "code",
   "execution_count": 52,
   "metadata": {},
   "outputs": [
    {
     "name": "stdout",
     "output_type": "stream",
     "text": [
      "[20 42 63]\n"
     ]
    }
   ],
   "source": [
    "a1 = [5,6,7]\n",
    "a2 = [4,7,9]\n",
    "print(np.multiply(a1,a2))"
   ]
  },
  {
   "cell_type": "markdown",
   "metadata": {},
   "source": [
    "dot product"
   ]
  },
  {
   "cell_type": "code",
   "execution_count": 55,
   "metadata": {},
   "outputs": [
    {
     "name": "stdout",
     "output_type": "stream",
     "text": [
      "Dot product -  32\n",
      "Dot product using np.dot -  32\n",
      "Dot product using np.inner -  32\n",
      "Dot product using np.multiply & sum - 32\n",
      "Dot product using np.matmul - 32\n",
      "Dot product using for loop -  32\n"
     ]
    }
   ],
   "source": [
    "a1 = np.array([1,2,3])\n",
    "a2 = np.array([4,5,6])\n",
    "\n",
    "dotp = a1@a2\n",
    "print('Dot product - ',dotp)\n",
    "\n",
    "dotp = np.dot(a1,a2)\n",
    "print('Dot product using np.dot - ',dotp)\n",
    "\n",
    "dotp = np.inner(a1,a2)\n",
    "print('Dot product using np.inner - ', dotp)\n",
    "\n",
    "dotp = sum(np.multiply(a1,a2))\n",
    "print('Dot product using np.multiply & sum -', dotp)\n",
    "\n",
    "dotp = np.matmul(a1,a2)\n",
    "print('Dot product using np.matmul -', dotp)\n",
    "\n",
    "dotp = 0\n",
    "for i in range(len(a1)):\n",
    "    dotp = dotp +a1[i]*a2[i]\n",
    "print('Dot product using for loop - ', dotp)"
   ]
  },
  {
   "cell_type": "code",
   "execution_count": 56,
   "metadata": {},
   "outputs": [
    {
     "data": {
      "text/plain": [
       "9.539392014169456"
      ]
     },
     "execution_count": 56,
     "metadata": {},
     "output_type": "execute_result"
    }
   ],
   "source": [
    "#vector len\n",
    "v3 = np.array([1,2,3,4,5,6])\n",
    "lenght = np.sqrt(np.dot(v3,v3))\n",
    "lenght"
   ]
  },
  {
   "cell_type": "code",
   "execution_count": 58,
   "metadata": {},
   "outputs": [
    {
     "data": {
      "text/plain": [
       "(3.605551275463989, array([0.55, 0.83]))"
      ]
     },
     "execution_count": 58,
     "metadata": {},
     "output_type": "execute_result"
    }
   ],
   "source": [
    "v1 = [2,3]\n",
    "lenght_v1 = np.sqrt(np.dot(v1,v1))\n",
    "norm_v1 = v1 / lenght_v1\n",
    "lenght_v1, norm_v1"
   ]
  },
  {
   "cell_type": "code",
   "execution_count": 59,
   "metadata": {},
   "outputs": [
    {
     "data": {
      "text/plain": [
       "array([0.55, 0.83])"
      ]
     },
     "execution_count": 59,
     "metadata": {},
     "output_type": "execute_result"
    }
   ],
   "source": [
    "v1 = [2,3]\n",
    "norm_v1 = v1 / np.linalg.norm(v1)\n",
    "norm_v1"
   ]
  },
  {
   "cell_type": "code",
   "execution_count": 60,
   "metadata": {},
   "outputs": [],
   "source": [
    "#çıkartma toplama bölme işlemlerine siz bakın"
   ]
  },
  {
   "cell_type": "code",
   "execution_count": 62,
   "metadata": {},
   "outputs": [
    {
     "data": {
      "text/plain": [
       "array([[0., 0., 0., 0.],\n",
       "       [0., 0., 0., 0.],\n",
       "       [0., 0., 0., 0.],\n",
       "       [0., 0., 0., 0.]])"
      ]
     },
     "execution_count": 62,
     "metadata": {},
     "output_type": "execute_result"
    }
   ],
   "source": [
    "#matriss\n",
    "z1 = np.zeros((4,4))\n",
    "z1"
   ]
  },
  {
   "cell_type": "code",
   "execution_count": 63,
   "metadata": {},
   "outputs": [
    {
     "data": {
      "text/plain": [
       "array([[197, 460, 481, 337, 213, 172,  76,  57, 395, 164],\n",
       "       [314, 279, 283, 194, 378,  71, 124,  28, 129, 418],\n",
       "       [240, 179, 350, 231, 490,   8,  75, 422, 341, 277],\n",
       "       [187, 273, 193, 190, 393, 153, 190, 165, 266, 126],\n",
       "       [278, 351, 291, 435, 293, 144, 113, 427, 257, 244],\n",
       "       [132, 235, 207, 250, 390,  26,  21, 262,  31,   7],\n",
       "       [265, 241, 414, 475, 116,  77, 496, 257,   6, 254],\n",
       "       [489, 380, 117, 196,  30, 193, 381,  69, 480, 482],\n",
       "       [132, 289, 329, 380, 125, 160, 189, 260, 313, 293],\n",
       "       [ 27, 356, 343, 217, 419, 351, 359,  73, 293, 488]])"
      ]
     },
     "execution_count": 63,
     "metadata": {},
     "output_type": "execute_result"
    }
   ],
   "source": [
    "np.random.randint(0,500,(10,10))"
   ]
  },
  {
   "cell_type": "code",
   "execution_count": 64,
   "metadata": {},
   "outputs": [],
   "source": [
    "mat1 = np.random.randint(0,1000,100).reshape(10,10)"
   ]
  },
  {
   "cell_type": "code",
   "execution_count": 65,
   "metadata": {},
   "outputs": [
    {
     "data": {
      "text/plain": [
       "array([[ 59, 175, 387, 338, 761, 244, 106, 192, 954,  67],\n",
       "       [123, 472, 691, 602, 783, 497, 631, 840, 478, 758],\n",
       "       [399,  87, 979, 833, 285, 160, 398, 682, 663, 788],\n",
       "       [522, 921,  33, 462, 273, 658, 784,  70, 398, 645],\n",
       "       [419, 109, 886,  28, 741, 177,  83,  73, 114, 493],\n",
       "       [542, 899, 983, 405, 748, 292,   7, 559, 186, 137],\n",
       "       [ 75, 890, 670, 700, 794, 533, 699, 765, 637, 759],\n",
       "       [303, 725, 913, 657, 937, 270, 224,  85, 820, 934],\n",
       "       [ 32, 634, 388, 809, 748, 102, 555, 227, 381, 931],\n",
       "       [160, 366, 555, 399, 587, 799, 802,   0,  30, 398]])"
      ]
     },
     "execution_count": 65,
     "metadata": {},
     "output_type": "execute_result"
    }
   ],
   "source": [
    "mat1"
   ]
  },
  {
   "cell_type": "code",
   "execution_count": 66,
   "metadata": {},
   "outputs": [
    {
     "data": {
      "text/plain": [
       "array([ 59, 175, 387, 338, 761, 244, 106, 192, 954,  67])"
      ]
     },
     "execution_count": 66,
     "metadata": {},
     "output_type": "execute_result"
    }
   ],
   "source": [
    "mat1[0]"
   ]
  },
  {
   "cell_type": "code",
   "execution_count": 67,
   "metadata": {},
   "outputs": [
    {
     "data": {
      "text/plain": [
       "59"
      ]
     },
     "execution_count": 67,
     "metadata": {},
     "output_type": "execute_result"
    }
   ],
   "source": [
    "mat1[0][0]"
   ]
  },
  {
   "cell_type": "code",
   "execution_count": 68,
   "metadata": {},
   "outputs": [
    {
     "data": {
      "text/plain": [
       "array([[1., 0., 0., 0., 0., 0., 0., 0., 0.],\n",
       "       [0., 1., 0., 0., 0., 0., 0., 0., 0.],\n",
       "       [0., 0., 1., 0., 0., 0., 0., 0., 0.],\n",
       "       [0., 0., 0., 1., 0., 0., 0., 0., 0.],\n",
       "       [0., 0., 0., 0., 1., 0., 0., 0., 0.],\n",
       "       [0., 0., 0., 0., 0., 1., 0., 0., 0.],\n",
       "       [0., 0., 0., 0., 0., 0., 1., 0., 0.],\n",
       "       [0., 0., 0., 0., 0., 0., 0., 1., 0.],\n",
       "       [0., 0., 0., 0., 0., 0., 0., 0., 1.]])"
      ]
     },
     "execution_count": 68,
     "metadata": {},
     "output_type": "execute_result"
    }
   ],
   "source": [
    "#birim matris\n",
    "I = np.eye(9)\n",
    "I"
   ]
  },
  {
   "cell_type": "code",
   "execution_count": 69,
   "metadata": {},
   "outputs": [
    {
     "data": {
      "text/plain": [
       "array([[1, 0, 0, 0, 0, 0, 0, 0],\n",
       "       [0, 2, 0, 0, 0, 0, 0, 0],\n",
       "       [0, 0, 3, 0, 0, 0, 0, 0],\n",
       "       [0, 0, 0, 4, 0, 0, 0, 0],\n",
       "       [0, 0, 0, 0, 5, 0, 0, 0],\n",
       "       [0, 0, 0, 0, 0, 6, 0, 0],\n",
       "       [0, 0, 0, 0, 0, 0, 7, 0],\n",
       "       [0, 0, 0, 0, 0, 0, 0, 8]])"
      ]
     },
     "execution_count": 69,
     "metadata": {},
     "output_type": "execute_result"
    }
   ],
   "source": [
    "#diagonal matris\n",
    "D = np.diag([1,2,3,4,5,6,7,8])\n",
    "D"
   ]
  },
  {
   "cell_type": "code",
   "execution_count": 73,
   "metadata": {},
   "outputs": [],
   "source": [
    "#Üçgen Matris\n",
    "M = np.random.randn(5,5)\n",
    "U = np.triu(M)\n",
    "L = np.tril(M)\n"
   ]
  },
  {
   "cell_type": "code",
   "execution_count": 77,
   "metadata": {},
   "outputs": [
    {
     "name": "stdout",
     "output_type": "stream",
     "text": [
      "[[ 1.1   0.06 -1.32  0.63  0.76]\n",
      " [ 1.69 -2.66  0.07  1.07 -0.35]\n",
      " [-3.11  0.18  1.05 -0.79  1.68]\n",
      " [ 1.12 -0.12  2.19  0.55 -0.87]\n",
      " [ 1.2  -1.25 -0.47 -1.31  0.23]] \n",
      "\n",
      " [[ 1.1   0.06 -1.32  0.63  0.76]\n",
      " [ 0.   -2.66  0.07  1.07 -0.35]\n",
      " [ 0.    0.    1.05 -0.79  1.68]\n",
      " [ 0.    0.    0.    0.55 -0.87]\n",
      " [ 0.    0.    0.    0.    0.23]] \n",
      "\n",
      " [[ 1.1   0.    0.    0.    0.  ]\n",
      " [ 0.   -2.66  0.    0.    0.  ]\n",
      " [ 0.    0.    1.05  0.    0.  ]\n",
      " [ 0.    0.    0.    0.55  0.  ]\n",
      " [ 0.    0.    0.    0.    0.23]]\n"
     ]
    }
   ],
   "source": [
    "print(M , '\\n\\n' , U , '\\n\\n' , L)"
   ]
  },
  {
   "cell_type": "code",
   "execution_count": 78,
   "metadata": {},
   "outputs": [
    {
     "data": {
      "text/plain": [
       "array([[8, 8, 8, 8, 8],\n",
       "       [8, 8, 8, 8, 8],\n",
       "       [8, 8, 8, 8, 8],\n",
       "       [8, 8, 8, 8, 8],\n",
       "       [8, 8, 8, 8, 8]])"
      ]
     },
     "execution_count": 78,
     "metadata": {},
     "output_type": "execute_result"
    }
   ],
   "source": [
    "np.full((5,5),8)"
   ]
  },
  {
   "cell_type": "code",
   "execution_count": 79,
   "metadata": {},
   "outputs": [
    {
     "data": {
      "text/plain": [
       "array([[15.11, 12.65, 19.93, 13.07, 11.43],\n",
       "       [18.8 , 12.24, 11.5 , 14.32, 14.66],\n",
       "       [11.38, 12.35, 14.14, 18.31, 13.22],\n",
       "       [10.76, 17.12, 13.  , 15.76, 10.75],\n",
       "       [16.16, 19.15, 19.4 , 19.71, 14.05]])"
      ]
     },
     "execution_count": 79,
     "metadata": {},
     "output_type": "execute_result"
    }
   ],
   "source": [
    "np.random.uniform(10,20,size=(5,5))"
   ]
  },
  {
   "cell_type": "code",
   "execution_count": 81,
   "metadata": {},
   "outputs": [
    {
     "data": {
      "text/plain": [
       "array([[ 1,  2,  3,  4],\n",
       "       [ 5,  6,  7,  8],\n",
       "       [ 9, 10, 11, 12],\n",
       "       [13, 14, 15, 16]])"
      ]
     },
     "execution_count": 81,
     "metadata": {},
     "output_type": "execute_result"
    }
   ],
   "source": [
    "A = np.arange(1,17).reshape(4,4)\n",
    "A"
   ]
  },
  {
   "cell_type": "code",
   "execution_count": 82,
   "metadata": {},
   "outputs": [
    {
     "data": {
      "text/plain": [
       "array([ 1,  2,  3,  4,  5,  6,  7,  8,  9, 10, 11, 12, 13, 14, 15, 16])"
      ]
     },
     "execution_count": 82,
     "metadata": {},
     "output_type": "execute_result"
    }
   ],
   "source": [
    "A.flatten()"
   ]
  },
  {
   "cell_type": "code",
   "execution_count": 84,
   "metadata": {},
   "outputs": [
    {
     "data": {
      "text/plain": [
       "array([ 1,  2,  3,  4,  5,  6,  7,  8,  9, 10, 11, 12, 13, 14, 15, 16])"
      ]
     },
     "execution_count": 84,
     "metadata": {},
     "output_type": "execute_result"
    }
   ],
   "source": [
    "A.ravel()"
   ]
  },
  {
   "cell_type": "code",
   "execution_count": 108,
   "metadata": {},
   "outputs": [
    {
     "data": {
      "text/plain": [
       "array([[ 1,  2,  3,  4],\n",
       "       [ 5,  6,  7,  8],\n",
       "       [ 9, 10, 11, 12],\n",
       "       [13, 14, 15, 16]])"
      ]
     },
     "execution_count": 108,
     "metadata": {},
     "output_type": "execute_result"
    }
   ],
   "source": [
    "m1 = np.arange(1,17).reshape(4,4)\n",
    "m1"
   ]
  },
  {
   "cell_type": "code",
   "execution_count": 92,
   "metadata": {},
   "outputs": [
    {
     "data": {
      "text/plain": [
       "array([[ 1,  2,  3,  4],\n",
       "       [ 5,  6,  7,  8],\n",
       "       [ 9, 10, 11, 12],\n",
       "       [13, 14, 15, 16]])"
      ]
     },
     "execution_count": 92,
     "metadata": {},
     "output_type": "execute_result"
    }
   ],
   "source": [
    "m1[[0,1]] = m1[[1,0]]\n",
    "m1"
   ]
  },
  {
   "cell_type": "code",
   "execution_count": 110,
   "metadata": {},
   "outputs": [
    {
     "data": {
      "text/plain": [
       "array([[ 1,  2,  3,  4],\n",
       "       [ 5,  6,  7,  8],\n",
       "       [ 9, 10, 11, 12],\n",
       "       [13, 14, 15, 16]])"
      ]
     },
     "execution_count": 110,
     "metadata": {},
     "output_type": "execute_result"
    }
   ],
   "source": [
    "m1[:, [2,3]] = m1[:, [3,2]]\n",
    "m1"
   ]
  },
  {
   "cell_type": "code",
   "execution_count": 114,
   "metadata": {},
   "outputs": [
    {
     "data": {
      "text/plain": [
       "array([[1, 2],\n",
       "       [3, 4],\n",
       "       [5, 6],\n",
       "       [1, 1],\n",
       "       [1, 1]])"
      ]
     },
     "execution_count": 114,
     "metadata": {},
     "output_type": "execute_result"
    }
   ],
   "source": [
    "A = np.array([[1,2],[3,4],[5,6]])\n",
    "B = np.array([[1,1],[1,1]])\n",
    "C = np.concatenate((A,B))\n",
    "C"
   ]
  },
  {
   "cell_type": "code",
   "execution_count": 120,
   "metadata": {},
   "outputs": [
    {
     "name": "stdout",
     "output_type": "stream",
     "text": [
      "Matrix Addition (M + N) ==> \n",
      " [[ 2  3  4]\n",
      " [ 6  7  8]\n",
      " [10 11 12]]\n",
      "Matrix Addition (M + N) ==> \n",
      " [[ 2  3  4]\n",
      " [ 6  7  8]\n",
      " [10 11 12]]\n"
     ]
    }
   ],
   "source": [
    "M = np.array([[1,2,3], [4,5,6], [7,8,9]])\n",
    "N = np.array([[1,1,1],[2,2,2],[3,3,3]])\n",
    "\n",
    "L = M + N\n",
    "print('Matrix Addition (M + N) ==> \\n',L)\n",
    "\n",
    "#or\n",
    "\n",
    "L = np.add(M,N)\n",
    "print('Matrix Addition (M + N) ==> \\n',L)"
   ]
  },
  {
   "cell_type": "code",
   "execution_count": 121,
   "metadata": {},
   "outputs": [],
   "source": [
    "#Çıkartma : - , substract()\n",
    "#çarpma : * , multiply()\n",
    "#Bölme : / , divide()"
   ]
  },
  {
   "cell_type": "code",
   "execution_count": 122,
   "metadata": {},
   "outputs": [
    {
     "name": "stdout",
     "output_type": "stream",
     "text": [
      "Transpose of M ==> \n",
      " [[1 4 7]\n",
      " [2 5 8]\n",
      " [3 6 9]]\n",
      "Transpose of M ==> \n",
      " [[1 4 7]\n",
      " [2 5 8]\n",
      " [3 6 9]]\n"
     ]
    }
   ],
   "source": [
    "print('Transpose of M ==> \\n', np.transpose(M))\n",
    "#or\n",
    "print('Transpose of M ==> \\n',M.T)"
   ]
  },
  {
   "cell_type": "code",
   "execution_count": 123,
   "metadata": {},
   "outputs": [
    {
     "name": "stdout",
     "output_type": "stream",
     "text": [
      "Determinant of M ==>  195.0\n"
     ]
    }
   ],
   "source": [
    "#Determinant \n",
    "M = np.array([[1,2,3],[4,-3,6],[7,8,0]])\n",
    "\n",
    "print('Determinant of M ==> ', np.linalg.det(M))"
   ]
  },
  {
   "cell_type": "code",
   "execution_count": 124,
   "metadata": {},
   "outputs": [
    {
     "name": "stdout",
     "output_type": "stream",
     "text": [
      "Inverse of M ==> \n",
      " [[-0.25  0.12  0.11]\n",
      " [ 0.22 -0.11  0.03]\n",
      " [ 0.27  0.03 -0.06]]\n"
     ]
    }
   ],
   "source": [
    "#Ters alma\n",
    "print('Inverse of M ==> \\n', np.linalg.inv(M))"
   ]
  },
  {
   "cell_type": "code",
   "execution_count": 125,
   "metadata": {},
   "outputs": [
    {
     "data": {
      "text/plain": [
       "array([[1, 2],\n",
       "       [4, 5]])"
      ]
     },
     "execution_count": 125,
     "metadata": {},
     "output_type": "execute_result"
    }
   ],
   "source": [
    "#Kuvvet Alma (Power)\n",
    "M1 =np.array([[1,2],[4,5]])\n",
    "M1"
   ]
  },
  {
   "cell_type": "code",
   "execution_count": 126,
   "metadata": {},
   "outputs": [
    {
     "data": {
      "text/plain": [
       "array([[ 57,  78],\n",
       "       [156, 213]])"
      ]
     },
     "execution_count": 126,
     "metadata": {},
     "output_type": "execute_result"
    }
   ],
   "source": [
    "M1@M1@M1"
   ]
  },
  {
   "cell_type": "code",
   "execution_count": 127,
   "metadata": {},
   "outputs": [
    {
     "data": {
      "text/plain": [
       "array([[ 57,  78],\n",
       "       [156, 213]])"
      ]
     },
     "execution_count": 127,
     "metadata": {},
     "output_type": "execute_result"
    }
   ],
   "source": [
    "np.linalg.matrix_power(M1,3)"
   ]
  },
  {
   "cell_type": "markdown",
   "metadata": {},
   "source": [
    "Tensörler"
   ]
  },
  {
   "cell_type": "code",
   "execution_count": 128,
   "metadata": {},
   "outputs": [],
   "source": [
    "T1 = np.array([\n",
    "    [[1,2,3],[4,5,6],[7,8,9]],\n",
    "    [[10,20,30],[40,50,60],[70,80,90]],\n",
    "    [[100,200,300],[400,500,600],[700,800,900]],\n",
    "])"
   ]
  },
  {
   "cell_type": "code",
   "execution_count": 129,
   "metadata": {},
   "outputs": [],
   "source": [
    "T2 = np.array([\n",
    "    [[1,2,3],[4,5,6],[7,8,9]],\n",
    "    [[10,20,30],[40,50,60],[70,80,90]],\n",
    "    [[100,200,300],[400,500,600],[700,800,900]],\n",
    "])"
   ]
  },
  {
   "cell_type": "code",
   "execution_count": 130,
   "metadata": {},
   "outputs": [],
   "source": [
    "T3 = np.add(T1,T2)"
   ]
  },
  {
   "cell_type": "code",
   "execution_count": 132,
   "metadata": {},
   "outputs": [
    {
     "data": {
      "text/plain": [
       "array([[  10890,   13446,   16002],\n",
       "       [ 108900,  134460,  160020],\n",
       "       [1089000, 1344600, 1600200]])"
      ]
     },
     "execution_count": 132,
     "metadata": {},
     "output_type": "execute_result"
    }
   ],
   "source": [
    "np.tensordot(T1,T2)"
   ]
  },
  {
   "cell_type": "code",
   "execution_count": 133,
   "metadata": {},
   "outputs": [],
   "source": [
    "#denklem çözme (AX = B)"
   ]
  },
  {
   "cell_type": "code",
   "execution_count": 134,
   "metadata": {},
   "outputs": [],
   "source": [
    "A = np.array([[1,2,3],[4,5,6],[7,8,9]])"
   ]
  },
  {
   "cell_type": "code",
   "execution_count": 141,
   "metadata": {},
   "outputs": [
    {
     "ename": "TypeError",
     "evalue": "'module' object is not callable",
     "output_type": "error",
     "traceback": [
      "\u001b[1;31m---------------------------------------------------------------------------\u001b[0m",
      "\u001b[1;31mTypeError\u001b[0m                                 Traceback (most recent call last)",
      "Cell \u001b[1;32mIn [141], line 1\u001b[0m\n\u001b[1;32m----> 1\u001b[0m B \u001b[39m=\u001b[39m np\u001b[39m.\u001b[39mrandom([\u001b[39m3\u001b[39m,\u001b[39m1\u001b[39m])\n",
      "\u001b[1;31mTypeError\u001b[0m: 'module' object is not callable"
     ]
    }
   ],
   "source": [
    "B = np.random(3,1)"
   ]
  },
  {
   "cell_type": "code",
   "execution_count": 137,
   "metadata": {},
   "outputs": [
    {
     "ename": "LinAlgError",
     "evalue": "Singular matrix",
     "output_type": "error",
     "traceback": [
      "\u001b[1;31m---------------------------------------------------------------------------\u001b[0m",
      "\u001b[1;31mLinAlgError\u001b[0m                               Traceback (most recent call last)",
      "Cell \u001b[1;32mIn [137], line 1\u001b[0m\n\u001b[1;32m----> 1\u001b[0m X \u001b[39m=\u001b[39m np\u001b[39m.\u001b[39mlinalg\u001b[39m.\u001b[39minv(A)\u001b[39m@B\u001b[39m\n\u001b[0;32m      2\u001b[0m x\n",
      "File \u001b[1;32m<__array_function__ internals>:180\u001b[0m, in \u001b[0;36minv\u001b[1;34m(*args, **kwargs)\u001b[0m\n",
      "File \u001b[1;32mc:\\Users\\necme\\AppData\\Local\\Programs\\Python\\Python310\\lib\\site-packages\\numpy\\linalg\\linalg.py:552\u001b[0m, in \u001b[0;36minv\u001b[1;34m(a)\u001b[0m\n\u001b[0;32m    550\u001b[0m signature \u001b[39m=\u001b[39m \u001b[39m'\u001b[39m\u001b[39mD->D\u001b[39m\u001b[39m'\u001b[39m \u001b[39mif\u001b[39;00m isComplexType(t) \u001b[39melse\u001b[39;00m \u001b[39m'\u001b[39m\u001b[39md->d\u001b[39m\u001b[39m'\u001b[39m\n\u001b[0;32m    551\u001b[0m extobj \u001b[39m=\u001b[39m get_linalg_error_extobj(_raise_linalgerror_singular)\n\u001b[1;32m--> 552\u001b[0m ainv \u001b[39m=\u001b[39m _umath_linalg\u001b[39m.\u001b[39;49minv(a, signature\u001b[39m=\u001b[39;49msignature, extobj\u001b[39m=\u001b[39;49mextobj)\n\u001b[0;32m    553\u001b[0m \u001b[39mreturn\u001b[39;00m wrap(ainv\u001b[39m.\u001b[39mastype(result_t, copy\u001b[39m=\u001b[39m\u001b[39mFalse\u001b[39;00m))\n",
      "File \u001b[1;32mc:\\Users\\necme\\AppData\\Local\\Programs\\Python\\Python310\\lib\\site-packages\\numpy\\linalg\\linalg.py:89\u001b[0m, in \u001b[0;36m_raise_linalgerror_singular\u001b[1;34m(err, flag)\u001b[0m\n\u001b[0;32m     88\u001b[0m \u001b[39mdef\u001b[39;00m \u001b[39m_raise_linalgerror_singular\u001b[39m(err, flag):\n\u001b[1;32m---> 89\u001b[0m     \u001b[39mraise\u001b[39;00m LinAlgError(\u001b[39m\"\u001b[39m\u001b[39mSingular matrix\u001b[39m\u001b[39m\"\u001b[39m)\n",
      "\u001b[1;31mLinAlgError\u001b[0m: Singular matrix"
     ]
    }
   ],
   "source": [
    "X = np.linalg.inv(A)@B\n",
    "x"
   ]
  },
  {
   "cell_type": "code",
   "execution_count": null,
   "metadata": {},
   "outputs": [],
   "source": [
    "x = np.linalg.solve(A,B)\n",
    "X"
   ]
  }
 ],
 "metadata": {
  "kernelspec": {
   "display_name": "Python 3.10.5 64-bit",
   "language": "python",
   "name": "python3"
  },
  "language_info": {
   "codemirror_mode": {
    "name": "ipython",
    "version": 3
   },
   "file_extension": ".py",
   "mimetype": "text/x-python",
   "name": "python",
   "nbconvert_exporter": "python",
   "pygments_lexer": "ipython3",
   "version": "3.10.5"
  },
  "orig_nbformat": 4,
  "vscode": {
   "interpreter": {
    "hash": "55112f57a8570bdf5f391b79fc0caed42d28da96e3ee50ae565d0577f4712918"
   }
  }
 },
 "nbformat": 4,
 "nbformat_minor": 2
}
