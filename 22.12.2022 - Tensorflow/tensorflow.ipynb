{
 "cells": [
  {
   "cell_type": "code",
   "execution_count": 1,
   "metadata": {},
   "outputs": [],
   "source": [
    "import tensorflow as tf\n",
    "import matplotlib.pyplot as plt"
   ]
  },
  {
   "cell_type": "code",
   "execution_count": 2,
   "metadata": {},
   "outputs": [
    {
     "ename": "ModuleNotFoundError",
     "evalue": "No module named 'tensorflow.examples'",
     "output_type": "error",
     "traceback": [
      "\u001b[1;31m---------------------------------------------------------------------------\u001b[0m",
      "\u001b[1;31mModuleNotFoundError\u001b[0m                       Traceback (most recent call last)",
      "Cell \u001b[1;32mIn [2], line 2\u001b[0m\n\u001b[0;32m      1\u001b[0m \u001b[39m#for tf1\u001b[39;00m\n\u001b[1;32m----> 2\u001b[0m \u001b[39mfrom\u001b[39;00m \u001b[39mtensorflow\u001b[39;00m\u001b[39m.\u001b[39;00m\u001b[39mexamples\u001b[39;00m\u001b[39m.\u001b[39;00m\u001b[39mtutorials\u001b[39;00m\u001b[39m.\u001b[39;00m\u001b[39mmnist\u001b[39;00m \u001b[39mimport\u001b[39;00m input_data\n\u001b[0;32m      3\u001b[0m mnist \u001b[39m=\u001b[39m input_data\u001b[39m.\u001b[39mread_data_sets(\u001b[39m\"\u001b[39m\u001b[39mdata\u001b[39m\u001b[39m\"\u001b[39m,one_hot \u001b[39m=\u001b[39m \u001b[39mTrue\u001b[39;00m)\n\u001b[0;32m      5\u001b[0m \u001b[39m#parametreler\u001b[39;00m\n",
      "\u001b[1;31mModuleNotFoundError\u001b[0m: No module named 'tensorflow.examples'"
     ]
    }
   ],
   "source": [
    "#for tf1\n",
    "from tensorflow.examples.tutorials.mnist import input_data\n",
    "mnist = input_data.read_data_sets(\"data\",one_hot = True)\n",
    "\n",
    "#parametreler\n",
    "learning_rate = 0.01\n",
    "training_epoch = 25\n",
    "batch_size = 100\n",
    "display_step = 1\n",
    "\n",
    "x = tf.placeholder(\"float\", [None, 784])\n",
    "y = tf.placeholder(\"float\", [None, 10])\n",
    "\n",
    "W = tf.Variable(tf.zeros([784, 10]))\n",
    "b = tf.Variable(tf.zeros([10]))\n",
    "\n",
    "activation = tf.nn.softmax(tf.matmul(x, W) + b)\n",
    "\n",
    "cross_entropy = y*tf.log(activation)\n",
    "cost = tf.reduce_mean(tf.reduce_sum(cross_entropy,reduction_indices = 1))\n",
    "optimizer = tf.train.GradientDescentOptimizer(learning_rate).minimize(cost)\n",
    "\n",
    "\n"
   ]
  },
  {
   "cell_type": "code",
   "execution_count": null,
   "metadata": {},
   "outputs": [],
   "source": [
    "#Çizim ayarları\n",
    "avg_set = []\n",
    "epoch_set = []\n",
    "\n",
    "#değişkenlerin ilk atamalarını yapma işlemi\n",
    "init = tf.initialize_all_variables()\n",
    "\n",
    "with tf.Session() as sess:\n",
    "    sess.run(init)\n",
    "    \n",
    "    for epoch in range(training_epoch):\n",
    "        avg_cost = 0\n",
    "        total_batch = int(mnist.train.num_examples/batch_size)\n",
    "        \n",
    "        for i in range(total_batch):\n",
    "            batch_xs, batch_ys = mnist.train.next_batch(batch_size)\n",
    "            \n",
    "            sess.run(optimizer, feed_dict={x: batch_xs, y: batch_ys})\n",
    "            \n",
    "            avg_cost += sess.run(cost, feed_dict={x: batch_xs, y: batch_ys}) / total_batch\n",
    "        \n",
    "        if epoch % display_step == 0:\n",
    "            print('Epoch:', '%04d' % (epoch+1), 'cost:', '{:.9f}'.format(avg_cost))\n",
    "        avg_set.append(avg_cost)\n",
    "        epoch_set.append(epoch+1)\n",
    "        \n",
    "    print('Eğitim fazı tamamlandı')\n",
    "    \n",
    "    plt.plot(epoch_set, avg_set,'o',label = 'Ikılı sınıflandırma eğitim fazı')\n",
    "    plt.ylabel('cost')\n",
    "    plt.xlabel('Epoch')\n",
    "    plt.legend()\n",
    "    plt.show()"
   ]
  },
  {
   "cell_type": "code",
   "execution_count": null,
   "metadata": {},
   "outputs": [],
   "source": [
    "#Model test\n",
    "\n",
    "dogru_tahmin = tf.equal(tf.argmax(activation,1),tf.argmax(y,1))\n",
    "\n",
    "#accuray(başarı)hesabı\n",
    "accuary = tf.reduce_mean(tf.cast(dogru_tahmin,float))\n",
    "print('Model accuary',accuary.eval({x:mnist.test.images,y:mnist.test.labels}))"
   ]
  },
  {
   "cell_type": "code",
   "execution_count": null,
   "metadata": {},
   "outputs": [],
   "source": [
    "#Tensorlow ile MLP (Çok Katmanlı Algılayıcı)\n",
    "from tensorflow.examples.tutorials.mnist import input_data\n",
    "mnist = input_data.read_data_sets(\"data\",one_hot = True)\n",
    "\n",
    "#parametreler\n",
    "learning_rate = 0.001\n",
    "training_epoch = 20\n",
    "batch_size = 100\n",
    "display_step = 1\n",
    "\n",
    "n_hidden_1 = 256\n",
    "n_hidden_2 = 256\n",
    "n_input = 784\n",
    "n_classes = 10\n",
    "\n",
    "\n",
    "x = tf.placeholder(\"float\", [None, n_input])\n",
    "y = tf.placeholder(\"float\", [None, n_classes])\n",
    "\n",
    "h = tf.Variable(tf.random.normal([n_input, n_hidden_1]))\n",
    "bias_layer_1 = tf.Variable(tf.random.normal([n_hidden_1]))\n",
    "layer_1 = tf.nn.sigmoid(tf.add(tf.matmul(x,h),bias_layer_1))\n",
    "\n",
    "w = tf.Variable(tf.random.normal([n_hidden_1, n_hidden_2]))\n",
    "bias_layer_2 = tf.Variable(tf.random.normal([n_hidden_2]))\n",
    "layer_2 = tf.nn.sigmoid(tf.add(tf.matmul(layer_1,w),bias_layer_2))\n",
    "\n",
    "output = tf.Variable(tf.random.normal([n_hidden_2, n_classes]))\n",
    "bias_output = tf.Variable(tf.random.normal([n_classes]))\n",
    "outpu_layer = tf.matmul(layer_2, output)+bias_output\n",
    "\n",
    "cost = tf.reduce_mean(tf.nn.sigmoid_cross_entropy_with_logits(logits=outpu_layer, labels=y))\n",
    "optimizer = tf.train.AdamOptimizer(learning_rate)\n",
    "\n",
    "#Çizim ayarları\n",
    "avg_set = []\n",
    "epoch_set = []\n",
    "\n",
    "#değişkenlerin ilk atamalarını yapma işlemi\n",
    "init = tf.initialize_all_variables()\n",
    "\n",
    "with tf.Session() as sess:\n",
    "    sess.run(init)\n",
    "    \n",
    "    for epoch in range(training_epoch):\n",
    "        avg_cost = 0\n",
    "        total_batch = int(mnist.train.num_examples/batch_size)\n",
    "        \n",
    "        for i in range(total_batch):\n",
    "            batch_xs, batch_ys = mnist.train.next_batch(batch_size)\n",
    "            \n",
    "            sess.run(optimizer, feed_dict={x: batch_xs, y: batch_ys})\n",
    "            \n",
    "            avg_cost += sess.run(cost, feed_dict={x: batch_xs, y: batch_ys}) / total_batch\n",
    "        \n",
    "        if epoch % display_step == 0:\n",
    "            print('Epoch:', '%04d' % (epoch+1), 'cost:', '{:.9f}'.format(avg_cost))\n",
    "        avg_set.append(avg_cost)\n",
    "        epoch_set.append(epoch+1)\n",
    "        \n",
    "    print('Eğitim fazı tamamlandı')\n",
    "    \n",
    "    plt.plot(epoch_set, avg_set,'o',label = 'Ikılı sınıflandırma eğitim fazı')\n",
    "    plt.ylabel('cost')\n",
    "    plt.xlabel('Epoch')\n",
    "    plt.legend()\n",
    "    plt.show()"
   ]
  }
 ],
 "metadata": {
  "kernelspec": {
   "display_name": "Python 3",
   "language": "python",
   "name": "python3"
  },
  "language_info": {
   "codemirror_mode": {
    "name": "ipython",
    "version": 3
   },
   "file_extension": ".py",
   "mimetype": "text/x-python",
   "name": "python",
   "nbconvert_exporter": "python",
   "pygments_lexer": "ipython3",
   "version": "3.10.5"
  },
  "orig_nbformat": 4,
  "vscode": {
   "interpreter": {
    "hash": "55112f57a8570bdf5f391b79fc0caed42d28da96e3ee50ae565d0577f4712918"
   }
  }
 },
 "nbformat": 4,
 "nbformat_minor": 2
}
