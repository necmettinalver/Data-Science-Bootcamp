{
 "cells": [
  {
   "cell_type": "code",
   "execution_count": 1,
   "id": "33ab9286",
   "metadata": {},
   "outputs": [],
   "source": [
    "import neurolab as nl\n",
    "import matplotlib.pyplot as plt"
   ]
  },
  {
   "cell_type": "code",
   "execution_count": 2,
   "id": "0a60db33",
   "metadata": {},
   "outputs": [],
   "source": [
    "myinput = [[0, 0], [0, 1], [1, 0], [1, 1]]\n",
    "output = [[0], [0], [0], [1]]"
   ]
  },
  {
   "cell_type": "code",
   "execution_count": 3,
   "id": "bb3d0e90",
   "metadata": {},
   "outputs": [],
   "source": [
    "net = nl.net.newp([[0, 1], [0, 1]], 1)"
   ]
  },
  {
   "cell_type": "code",
   "execution_count": 4,
   "id": "bf6c407f",
   "metadata": {},
   "outputs": [
    {
     "name": "stdout",
     "output_type": "stream",
     "text": [
      "The goal of learning is reached\n"
     ]
    }
   ],
   "source": [
    "error_progress = net.train(myinput, output, epochs = 100, show = 10, lr = 0.1)"
   ]
  },
  {
   "cell_type": "code",
   "execution_count": 5,
   "id": "bcf8c9e8",
   "metadata": {},
   "outputs": [
    {
     "data": {
      "image/png": "[encoded data removed]",
      "text/plain": [
       "<Figure size 432x288 with 1 Axes>"
      ]
     },
     "metadata": {
      "needs_background": "light"
     },
     "output_type": "display_data"
    }
   ],
   "source": [
    "plt.figure()\n",
    "plt.plot(error_progress)\n",
    "plt.xlabel('İterasyon sayısı')\n",
    "plt.ylabel('Eğitim hatası')\n",
    "plt.grid()\n",
    "plt.show()"
   ]
  },
  {
   "cell_type": "code",
   "execution_count": 6,
   "id": "007ff2e6",
   "metadata": {},
   "outputs": [],
   "source": [
    "#Tek Katmanlı Sinir Ağları"
   ]
  },
  {
   "cell_type": "code",
   "execution_count": 7,
   "id": "a98d0981",
   "metadata": {},
   "outputs": [],
   "source": [
    "import numpy as np"
   ]
  },
  {
   "cell_type": "code",
   "execution_count": 8,
   "id": "f7b78372",
   "metadata": {},
   "outputs": [
    {
     "data": {
      "text/plain": [
       "array([[2. , 4. , 0. , 0. ],\n",
       "       [1.5, 3.9, 0. , 0. ],\n",
       "       [2.2, 4.1, 0. , 0. ],\n",
       "       [1.9, 4.7, 0. , 0. ],\n",
       "       [5.4, 2.2, 0. , 1. ],\n",
       "       [4.3, 7.1, 0. , 1. ],\n",
       "       [5.8, 4.9, 0. , 1. ],\n",
       "       [6.5, 3.2, 0. , 1. ],\n",
       "       [3. , 2. , 1. , 0. ],\n",
       "       [2.5, 0.5, 1. , 0. ],\n",
       "       [3.5, 2.1, 1. , 0. ],\n",
       "       [2.9, 0.3, 1. , 0. ],\n",
       "       [6.5, 8.3, 1. , 1. ],\n",
       "       [3.2, 6.2, 1. , 1. ],\n",
       "       [4.9, 7.8, 1. , 1. ],\n",
       "       [2.1, 4.8, 1. , 1. ]])"
      ]
     },
     "execution_count": 8,
     "metadata": {},
     "output_type": "execute_result"
    }
   ],
   "source": [
    "input_data = np.loadtxt(\"data/neural_simple.txt\", delimiter = ',')"
   ]
  },
  {
   "cell_type": "code",
   "execution_count": 9,
   "id": "bc3c5c03",
   "metadata": {},
   "outputs": [],
   "source": [
    "data = input_data[:, 0:2]\n",
    "labels = input_data[:, 2:]"
   ]
  },
  {
   "cell_type": "code",
   "execution_count": 11,
   "id": "fff7a8f1",
   "metadata": {},
   "outputs": [
    {
     "data": {
      "image/png": "[encoded data removed]",
      "text/plain": [
       "<Figure size 432x288 with 1 Axes>"
      ]
     },
     "metadata": {
      "needs_background": "light"
     },
     "output_type": "display_data"
    }
   ],
   "source": [
    "plt.figure()\n",
    "plt.scatter(data[:, 0], data[:, 1])\n",
    "plt.xlabel('Boyut 1')\n",
    "plt.ylabel('Boyut 2')\n",
    "plt.title('Input Data')\n",
    "plt.show()"
   ]
  },
  {
   "cell_type": "code",
   "execution_count": 12,
   "id": "cdf953ca",
   "metadata": {},
   "outputs": [],
   "source": [
    "dim1_min, dim1_max = data[:, 0].min(), data[:, 0].max()\n",
    "dim2_min, dim2_max = data[:, 1].min(), data[:, 1].max()"
   ]
  },
  {
   "cell_type": "code",
   "execution_count": 13,
   "id": "d644baa7",
   "metadata": {},
   "outputs": [],
   "source": [
    "nn_output_layer = labels.shape[1]"
   ]
  },
  {
   "cell_type": "code",
   "execution_count": 14,
   "id": "9dfe5422",
   "metadata": {},
   "outputs": [
    {
     "data": {
      "text/plain": [
       "2"
      ]
     },
     "execution_count": 14,
     "metadata": {},
     "output_type": "execute_result"
    }
   ],
   "source": [
    "nn_output_layer"
   ]
  },
  {
   "cell_type": "code",
   "execution_count": 19,
   "id": "f4f396c2",
   "metadata": {},
   "outputs": [],
   "source": [
    "dim1 = [dim1_min, dim1_max]\n",
    "dim2 = [dim2_min, dim2_max]\n",
    "neural_net = nl.net.newp([dim1, dim2], nn_output_layer)"
   ]
  },
  {
   "cell_type": "code",
   "execution_count": 20,
   "id": "c78199c7",
   "metadata": {},
   "outputs": [
    {
     "name": "stdout",
     "output_type": "stream",
     "text": [
      "Epoch: 20; Error: 4.0;\n",
      "Epoch: 40; Error: 4.0;\n",
      "Epoch: 60; Error: 4.0;\n",
      "Epoch: 80; Error: 4.0;\n",
      "Epoch: 100; Error: 4.0;\n",
      "Epoch: 120; Error: 4.0;\n",
      "Epoch: 140; Error: 4.0;\n",
      "Epoch: 160; Error: 4.0;\n",
      "Epoch: 180; Error: 4.0;\n",
      "Epoch: 200; Error: 4.0;\n",
      "The maximum number of train epochs is reached\n"
     ]
    }
   ],
   "source": [
    "error = neural_net.train(data, labels, epochs = 200, show = 20, lr = 0.01)"
   ]
  },
  {
   "cell_type": "code",
   "execution_count": 21,
   "id": "0db7268d",
   "metadata": {},
   "outputs": [
    {
     "data": {
      "image/png": "[encoded data removed]",
      "text/plain": [
       "<Figure size 432x288 with 1 Axes>"
      ]
     },
     "metadata": {
      "needs_background": "light"
     },
     "output_type": "display_data"
    }
   ],
   "source": [
    "plt.figure()\n",
    "plt.plot(error)\n",
    "plt.xlabel('İterasyon sayısı')\n",
    "plt.ylabel('Eğitim Hatası')\n",
    "plt.title('Eğitim Hatası Süreci')\n",
    "plt.grid()\n",
    "plt.show()"
   ]
  },
  {
   "cell_type": "code",
   "execution_count": 22,
   "id": "6a039b85",
   "metadata": {},
   "outputs": [
    {
     "name": "stdout",
     "output_type": "stream",
     "text": [
      "\n",
      "Test Results:\n",
      "[1.5, 3.2] --> [1. 0.]\n",
      "[3.6, 1.7] --> [1. 0.]\n",
      "[3.6, 5.7] --> [1. 1.]\n",
      "[1.6, 3.9] --> [1. 0.]\n"
     ]
    }
   ],
   "source": [
    "print('\\nTest Results:')\n",
    "data_test = [[1.5, 3.2], [3.6, 1.7], [3.6, 5.7], [1.6, 3.9]] \n",
    "for item in data_test:\n",
    "    print(item, '-->', neural_net.sim([item])[0])"
   ]
  },
  {
   "cell_type": "code",
   "execution_count": 23,
   "id": "04a06736",
   "metadata": {},
   "outputs": [],
   "source": [
    "#Çok katmanlı Sinir Ağları\n",
    "#y = 2x^2 + 8"
   ]
  },
  {
   "cell_type": "code",
   "execution_count": 24,
   "id": "001f3b57",
   "metadata": {},
   "outputs": [],
   "source": [
    "min_val = -30\n",
    "max_val = 30\n",
    "num_points = 160\n",
    "x = np.linspace(min_val, max_val, num_points)\n",
    "y = 2 * np.square(x) + 8\n",
    "y /= np.linalg.norm(y)"
   ]
  },
  {
   "cell_type": "code",
   "execution_count": 25,
   "id": "14ae1ad9",
   "metadata": {},
   "outputs": [],
   "source": [
    "data = x.reshape(num_points, 1)\n",
    "labels = y.reshape(num_points, 1)"
   ]
  },
  {
   "cell_type": "code",
   "execution_count": 27,
   "id": "30c9f6fe",
   "metadata": {},
   "outputs": [
    {
     "data": {
      "image/png": "[encoded data removed]",
      "text/plain": [
       "<Figure size 432x288 with 1 Axes>"
      ]
     },
     "metadata": {
      "needs_background": "light"
     },
     "output_type": "display_data"
    }
   ],
   "source": [
    "plt.figure()\n",
    "plt.scatter(data, labels)\n",
    "plt.xlabel('Boyut 1')\n",
    "plt.ylabel('Boyut 2')\n",
    "plt.title('Veri noktaları')\n",
    "plt.show()"
   ]
  },
  {
   "cell_type": "code",
   "execution_count": 28,
   "id": "4e523011",
   "metadata": {},
   "outputs": [],
   "source": [
    "neural_net = nl.net.newff([[min_val, max_val]], [10, 6, 1])"
   ]
  },
  {
   "cell_type": "code",
   "execution_count": 29,
   "id": "03caa43d",
   "metadata": {},
   "outputs": [],
   "source": [
    "neural_net.trainf = nl.train.train_gd"
   ]
  },
  {
   "cell_type": "code",
   "execution_count": 30,
   "id": "684d32ce",
   "metadata": {},
   "outputs": [
    {
     "name": "stdout",
     "output_type": "stream",
     "text": [
      "Epoch: 100; Error: 0.9325121276400861;\n",
      "Epoch: 200; Error: 0.0260204184575613;\n",
      "Epoch: 300; Error: 0.02078589264055289;\n",
      "The goal of learning is reached\n"
     ]
    }
   ],
   "source": [
    "error = neural_net.train(data, labels, epochs = 1000, show = 100, goal = 0.01)"
   ]
  },
  {
   "cell_type": "code",
   "execution_count": 31,
   "id": "0b63d1bf",
   "metadata": {},
   "outputs": [
    {
     "data": {
      "image/png": "[encoded data removed]",
      "text/plain": [
       "<Figure size 432x288 with 1 Axes>"
      ]
     },
     "metadata": {
      "needs_background": "light"
     },
     "output_type": "display_data"
    }
   ],
   "source": [
    "plt.figure()\n",
    "plt.plot(error)\n",
    "plt.xlabel('İterasyon sayısı')\n",
    "plt.ylabel('Hata')\n",
    "plt.title('Eğitim Hata Süreci')\n",
    "plt.show()"
   ]
  },
  {
   "cell_type": "code",
   "execution_count": 32,
   "id": "f884060c",
   "metadata": {},
   "outputs": [],
   "source": [
    "output = neural_net.sim(data)\n",
    "y_pred = output.reshape(num_points)"
   ]
  },
  {
   "cell_type": "code",
   "execution_count": 33,
   "id": "53e8fad3",
   "metadata": {},
   "outputs": [
    {
     "data": {
      "image/png": "[encoded data removed]",
      "text/plain": [
       "<Figure size 432x288 with 1 Axes>"
      ]
     },
     "metadata": {
      "needs_background": "light"
     },
     "output_type": "display_data"
    }
   ],
   "source": [
    "x_dense = np.linspace(min_val, max_val, num_points * 2)\n",
    "y_dense_pred = neural_net.sim(x_dense.reshape(x_dense.size, 1)).reshape(x_dense.size)\n",
    "plt.figure()\n",
    "plt.plot(x_dense, y_dense_pred, '-', x, y, '.', x, y_pred, 'p')\n",
    "plt.title('Gerçek değer vs. Tahmin edilen değer')\n",
    "plt.show()"
   ]
  },
  {
   "cell_type": "code",
   "execution_count": 4,
   "id": "42e2472a",
   "metadata": {},
   "outputs": [],
   "source": [
    "import numpy as np\n",
    "import warnings\n",
    "warnings.filterwarnings(\"ignore\")\n",
    "import tensorflow as tf"
   ]
  },
  {
   "cell_type": "code",
   "execution_count": 5,
   "id": "7fc608d0",
   "metadata": {},
   "outputs": [
    {
     "name": "stdout",
     "output_type": "stream",
     "text": [
      "[[2 2 2]\n",
      " [2 2 2]\n",
      " [2 2 2]]\n",
      "[[1 1 1]\n",
      " [1 1 1]\n",
      " [1 1 1]]\n",
      "[[2. 7. 2.]\n",
      " [1. 4. 2.]\n",
      " [9. 0. 2.]]\n",
      "[[6 6 6]\n",
      " [6 6 6]\n",
      " [6 6 6]]\n",
      "[[3 3 3]\n",
      " [3 3 3]\n",
      " [3 3 3]]\n",
      "55.999992\n"
     ]
    }
   ],
   "source": [
    "matrix1 = np.array([(2,2,2), (2,2,2), (2,2,2)], dtype = 'int32')\n",
    "matrix2 = np.array([(1,1,1), (1,1,1), (1,1,1)], dtype = 'int32')\n",
    "print(matrix1)\n",
    "print(matrix2)\n",
    "\n",
    "matrix1 = tf.constant(matrix1)\n",
    "matrix2 = tf.constant(matrix2)\n",
    "matrix_product = tf.matmul(matrix1, matrix2)\n",
    "matrix_sum = tf.add(matrix1, matrix2)\n",
    "\n",
    "matrix3 = np.array([(2,7,2), (1,4,2), (9,0,2)], dtype = 'float32')\n",
    "print(matrix3)\n",
    "matrix_det = tf.matrix_determinant(matrix3)\n",
    "\n",
    "with tf.Session() as sess:\n",
    "    result1 = sess.run(matrix_product)\n",
    "    result2 = sess.run(matrix_sum)\n",
    "    result3 = sess.run(matrix_det)\n",
    "    \n",
    "print(result1)\n",
    "print(result2)\n",
    "print(result3)"
   ]
  },
  {
   "cell_type": "code",
   "execution_count": 9,
   "id": "240fcc7e",
   "metadata": {},
   "outputs": [
    {
     "data": {
      "text/plain": [
       "'\\nred, green, blue\\n1     0     0\\n0     1     0\\n0     0     1\\n'"
      ]
     },
     "execution_count": 9,
     "metadata": {},
     "output_type": "execute_result"
    }
   ],
   "source": [
    "\"\"\"\n",
    "red, green, blue\n",
    "1     0     0\n",
    "0     1     0\n",
    "0     0     1\n",
    "\"\"\""
   ]
  },
  {
   "cell_type": "code",
   "execution_count": 11,
   "id": "aeefd3d0",
   "metadata": {},
   "outputs": [
    {
     "name": "stdout",
     "output_type": "stream",
     "text": [
      "['cold' 'cold' 'warm' 'cold' 'hot' 'warm' 'cold' 'warm' 'hot']\n",
      "[0 0 2 0 1 2 0 2 1]\n"
     ]
    }
   ],
   "source": [
    "from sklearn.preprocessing import LabelEncoder\n",
    "from sklearn.preprocessing import OneHotEncoder\n",
    "\n",
    "data = ['cold', 'cold', 'warm', 'cold', 'hot', 'warm', 'cold', 'warm', 'hot']\n",
    "values = np.array(data)\n",
    "print(values)\n",
    "\n",
    "#integer encoding\n",
    "label_encoder = LabelEncoder()\n",
    "integer_encoded = label_encoder.fit_transform(values)\n",
    "print(integer_encoded)"
   ]
  },
  {
   "cell_type": "code",
   "execution_count": 12,
   "id": "8b7356c9",
   "metadata": {},
   "outputs": [
    {
     "name": "stdout",
     "output_type": "stream",
     "text": [
      "[[1. 0. 0.]\n",
      " [1. 0. 0.]\n",
      " [0. 0. 1.]\n",
      " [1. 0. 0.]\n",
      " [0. 1. 0.]\n",
      " [0. 0. 1.]\n",
      " [1. 0. 0.]\n",
      " [0. 0. 1.]\n",
      " [0. 1. 0.]]\n"
     ]
    }
   ],
   "source": [
    "onehot_encoder = OneHotEncoder(sparse = False)\n",
    "integer_encoded = integer_encoded.reshape(len(integer_encoded), 1)\n",
    "onehot_encoded = onehot_encoder.fit_transform(integer_encoded)\n",
    "print(onehot_encoded)"
   ]
  },
  {
   "cell_type": "code",
   "execution_count": 14,
   "id": "d46bdb9b",
   "metadata": {},
   "outputs": [
    {
     "name": "stdout",
     "output_type": "stream",
     "text": [
      "['cold']\n"
     ]
    }
   ],
   "source": [
    "from numpy import argmax\n",
    "inverted = label_encoder.inverse_transform([argmax(onehot_encoded[0, :])])\n",
    "print(inverted)"
   ]
  },
  {
   "cell_type": "code",
   "execution_count": 15,
   "id": "110e9b0e",
   "metadata": {},
   "outputs": [],
   "source": [
    "#Tensorflow ile SLP (Tek Katmanlı Algılayıcı)"
   ]
  },
  {
   "cell_type": "code",
   "execution_count": 16,
   "id": "6a1812a7",
   "metadata": {},
   "outputs": [
    {
     "name": "stdout",
     "output_type": "stream",
     "text": [
      "Extracting /data\\train-images-idx3-ubyte.gz\n",
      "Extracting /data\\train-labels-idx1-ubyte.gz\n",
      "Extracting /data\\t10k-images-idx3-ubyte.gz\n",
      "Extracting /data\\t10k-labels-idx1-ubyte.gz\n"
     ]
    }
   ],
   "source": [
    "import warnings\n",
    "warnings.filterwarnings(\"ignore\")\n",
    "from tensorflow.examples.tutorials.mnist import input_data\n",
    "mnist = input_data.read_data_sets(\"/data\", one_hot = True)\n",
    "\n",
    "#Parametreler\n",
    "learning_rate = 0.01\n",
    "training_epochs = 25\n",
    "batch_size = 100\n",
    "display_step = 1\n",
    "\n",
    "x = tf.placeholder(\"float\", [None, 784])\n",
    "y = tf.placeholder(\"float\", [None, 10])\n",
    "\n",
    "W = tf.Variable(tf.zeros([784, 10]))\n",
    "b = tf.Variable(tf.zeros([10]))\n",
    "\n",
    "activation = tf.nn.softmax(tf.matmul(x, W) + b)"
   ]
  },
  {
   "cell_type": "code",
   "execution_count": null,
   "id": "d00cb2f0",
   "metadata": {},
   "outputs": [],
   "source": [
    "\n",
    "\n"
   ]
  }
 ],
 "metadata": {
  "kernelspec": {
   "display_name": "Python 3",
   "language": "python",
   "name": "python3"
  },
  "language_info": {
   "codemirror_mode": {
    "name": "ipython",
    "version": 3
   },
   "file_extension": ".py",
   "mimetype": "text/x-python",
   "name": "python",
   "nbconvert_exporter": "python",
   "pygments_lexer": "ipython3",
   "version": "3.6.13"
  }
 },
 "nbformat": 4,
 "nbformat_minor": 5
}
