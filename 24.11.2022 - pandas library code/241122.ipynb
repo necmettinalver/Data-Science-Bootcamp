{
 "cells": [
  {
   "cell_type": "code",
   "execution_count": 52,
   "metadata": {},
   "outputs": [],
   "source": [
    "import pandas as pd\n",
    "import numpy as np"
   ]
  },
  {
   "cell_type": "code",
   "execution_count": 53,
   "metadata": {},
   "outputs": [],
   "source": [
    "import glob"
   ]
  },
  {
   "cell_type": "code",
   "execution_count": 54,
   "metadata": {},
   "outputs": [
    {
     "name": "stderr",
     "output_type": "stream",
     "text": [
      "C:\\Users\\necme\\AppData\\Local\\Temp\\ipykernel_16108\\33497258.py:7: FutureWarning: The frame.append method is deprecated and will be removed from pandas in a future version. Use pandas.concat instead.\n",
      "  covid = covid.append(df,ignore_index=True,sort=True)\n"
     ]
    }
   ],
   "source": [
    "path = r\"C:\\Users\\necme\\Documents\\Python Scripts\\IBBE_VBB\\pandas library code - 24112022\"\n",
    "filenames = glob.glob(path + \"\\*.csv\")\n",
    "covid = pd.DataFrame()\n",
    "\n",
    "for f in filenames:\n",
    "    df = pd.read_csv(f,delimiter=',')\n",
    "    covid = covid.append(df,ignore_index=True,sort=True)\n"
   ]
  },
  {
   "cell_type": "code",
   "execution_count": 55,
   "metadata": {},
   "outputs": [
    {
     "data": {
      "text/html": [
       "<div>\n",
       "<style scoped>\n",
       "    .dataframe tbody tr th:only-of-type {\n",
       "        vertical-align: middle;\n",
       "    }\n",
       "\n",
       "    .dataframe tbody tr th {\n",
       "        vertical-align: top;\n",
       "    }\n",
       "\n",
       "    .dataframe thead th {\n",
       "        text-align: right;\n",
       "    }\n",
       "</style>\n",
       "<table border=\"1\" class=\"dataframe\">\n",
       "  <thead>\n",
       "    <tr style=\"text-align: right;\">\n",
       "      <th></th>\n",
       "      <th>Active</th>\n",
       "      <th>Admin2</th>\n",
       "      <th>Case_Fatality_Ratio</th>\n",
       "      <th>Combined_Key</th>\n",
       "      <th>Confirmed</th>\n",
       "      <th>Country_Region</th>\n",
       "      <th>Deaths</th>\n",
       "      <th>FIPS</th>\n",
       "      <th>Incident_Rate</th>\n",
       "      <th>Last_Update</th>\n",
       "      <th>Lat</th>\n",
       "      <th>Long_</th>\n",
       "      <th>Province_State</th>\n",
       "      <th>Recovered</th>\n",
       "    </tr>\n",
       "  </thead>\n",
       "  <tbody>\n",
       "    <tr>\n",
       "      <th>4011</th>\n",
       "      <td>NaN</td>\n",
       "      <td>NaN</td>\n",
       "      <td>0.811907</td>\n",
       "      <td>West Bank and Gaza</td>\n",
       "      <td>703036</td>\n",
       "      <td>West Bank and Gaza</td>\n",
       "      <td>5708</td>\n",
       "      <td>NaN</td>\n",
       "      <td>13781.193300</td>\n",
       "      <td>2022-11-24 04:21:09</td>\n",
       "      <td>31.952200</td>\n",
       "      <td>35.233200</td>\n",
       "      <td>NaN</td>\n",
       "      <td>NaN</td>\n",
       "    </tr>\n",
       "    <tr>\n",
       "      <th>4012</th>\n",
       "      <td>NaN</td>\n",
       "      <td>NaN</td>\n",
       "      <td>0.000000</td>\n",
       "      <td>Winter Olympics 2022</td>\n",
       "      <td>535</td>\n",
       "      <td>Winter Olympics 2022</td>\n",
       "      <td>0</td>\n",
       "      <td>NaN</td>\n",
       "      <td>NaN</td>\n",
       "      <td>2022-11-24 04:21:09</td>\n",
       "      <td>39.904200</td>\n",
       "      <td>116.407400</td>\n",
       "      <td>NaN</td>\n",
       "      <td>NaN</td>\n",
       "    </tr>\n",
       "    <tr>\n",
       "      <th>4013</th>\n",
       "      <td>NaN</td>\n",
       "      <td>NaN</td>\n",
       "      <td>18.074508</td>\n",
       "      <td>Yemen</td>\n",
       "      <td>11945</td>\n",
       "      <td>Yemen</td>\n",
       "      <td>2159</td>\n",
       "      <td>NaN</td>\n",
       "      <td>40.048994</td>\n",
       "      <td>2022-11-24 04:21:09</td>\n",
       "      <td>15.552727</td>\n",
       "      <td>48.516388</td>\n",
       "      <td>NaN</td>\n",
       "      <td>NaN</td>\n",
       "    </tr>\n",
       "    <tr>\n",
       "      <th>4014</th>\n",
       "      <td>NaN</td>\n",
       "      <td>NaN</td>\n",
       "      <td>1.204299</td>\n",
       "      <td>Zambia</td>\n",
       "      <td>333721</td>\n",
       "      <td>Zambia</td>\n",
       "      <td>4019</td>\n",
       "      <td>NaN</td>\n",
       "      <td>1815.283936</td>\n",
       "      <td>2022-11-24 04:21:09</td>\n",
       "      <td>-13.133897</td>\n",
       "      <td>27.849332</td>\n",
       "      <td>NaN</td>\n",
       "      <td>NaN</td>\n",
       "    </tr>\n",
       "    <tr>\n",
       "      <th>4015</th>\n",
       "      <td>NaN</td>\n",
       "      <td>NaN</td>\n",
       "      <td>2.173770</td>\n",
       "      <td>Zimbabwe</td>\n",
       "      <td>257893</td>\n",
       "      <td>Zimbabwe</td>\n",
       "      <td>5606</td>\n",
       "      <td>NaN</td>\n",
       "      <td>1735.142748</td>\n",
       "      <td>2022-11-24 04:21:09</td>\n",
       "      <td>-19.015438</td>\n",
       "      <td>29.154857</td>\n",
       "      <td>NaN</td>\n",
       "      <td>NaN</td>\n",
       "    </tr>\n",
       "  </tbody>\n",
       "</table>\n",
       "</div>"
      ],
      "text/plain": [
       "      Active Admin2  Case_Fatality_Ratio          Combined_Key  Confirmed  \\\n",
       "4011     NaN    NaN             0.811907    West Bank and Gaza     703036   \n",
       "4012     NaN    NaN             0.000000  Winter Olympics 2022        535   \n",
       "4013     NaN    NaN            18.074508                 Yemen      11945   \n",
       "4014     NaN    NaN             1.204299                Zambia     333721   \n",
       "4015     NaN    NaN             2.173770              Zimbabwe     257893   \n",
       "\n",
       "            Country_Region  Deaths  FIPS  Incident_Rate          Last_Update  \\\n",
       "4011    West Bank and Gaza    5708   NaN   13781.193300  2022-11-24 04:21:09   \n",
       "4012  Winter Olympics 2022       0   NaN            NaN  2022-11-24 04:21:09   \n",
       "4013                 Yemen    2159   NaN      40.048994  2022-11-24 04:21:09   \n",
       "4014                Zambia    4019   NaN    1815.283936  2022-11-24 04:21:09   \n",
       "4015              Zimbabwe    5606   NaN    1735.142748  2022-11-24 04:21:09   \n",
       "\n",
       "            Lat       Long_ Province_State  Recovered  \n",
       "4011  31.952200   35.233200            NaN        NaN  \n",
       "4012  39.904200  116.407400            NaN        NaN  \n",
       "4013  15.552727   48.516388            NaN        NaN  \n",
       "4014 -13.133897   27.849332            NaN        NaN  \n",
       "4015 -19.015438   29.154857            NaN        NaN  "
      ]
     },
     "execution_count": 55,
     "metadata": {},
     "output_type": "execute_result"
    }
   ],
   "source": [
    "covid.tail()"
   ]
  },
  {
   "cell_type": "code",
   "execution_count": 56,
   "metadata": {},
   "outputs": [],
   "source": [
    "covid = pd.read_csv('11-23-2022.csv')"
   ]
  },
  {
   "cell_type": "code",
   "execution_count": 57,
   "metadata": {},
   "outputs": [
    {
     "data": {
      "text/html": [
       "<div>\n",
       "<style scoped>\n",
       "    .dataframe tbody tr th:only-of-type {\n",
       "        vertical-align: middle;\n",
       "    }\n",
       "\n",
       "    .dataframe tbody tr th {\n",
       "        vertical-align: top;\n",
       "    }\n",
       "\n",
       "    .dataframe thead th {\n",
       "        text-align: right;\n",
       "    }\n",
       "</style>\n",
       "<table border=\"1\" class=\"dataframe\">\n",
       "  <thead>\n",
       "    <tr style=\"text-align: right;\">\n",
       "      <th></th>\n",
       "      <th>FIPS</th>\n",
       "      <th>Admin2</th>\n",
       "      <th>Province_State</th>\n",
       "      <th>Country_Region</th>\n",
       "      <th>Last_Update</th>\n",
       "      <th>Lat</th>\n",
       "      <th>Long_</th>\n",
       "      <th>Confirmed</th>\n",
       "      <th>Deaths</th>\n",
       "      <th>Recovered</th>\n",
       "      <th>Active</th>\n",
       "      <th>Combined_Key</th>\n",
       "      <th>Incident_Rate</th>\n",
       "      <th>Case_Fatality_Ratio</th>\n",
       "    </tr>\n",
       "  </thead>\n",
       "  <tbody>\n",
       "    <tr>\n",
       "      <th>4011</th>\n",
       "      <td>NaN</td>\n",
       "      <td>NaN</td>\n",
       "      <td>NaN</td>\n",
       "      <td>West Bank and Gaza</td>\n",
       "      <td>2022-11-24 04:21:09</td>\n",
       "      <td>31.952200</td>\n",
       "      <td>35.233200</td>\n",
       "      <td>703036</td>\n",
       "      <td>5708</td>\n",
       "      <td>NaN</td>\n",
       "      <td>NaN</td>\n",
       "      <td>West Bank and Gaza</td>\n",
       "      <td>13781.193300</td>\n",
       "      <td>0.811907</td>\n",
       "    </tr>\n",
       "    <tr>\n",
       "      <th>4012</th>\n",
       "      <td>NaN</td>\n",
       "      <td>NaN</td>\n",
       "      <td>NaN</td>\n",
       "      <td>Winter Olympics 2022</td>\n",
       "      <td>2022-11-24 04:21:09</td>\n",
       "      <td>39.904200</td>\n",
       "      <td>116.407400</td>\n",
       "      <td>535</td>\n",
       "      <td>0</td>\n",
       "      <td>NaN</td>\n",
       "      <td>NaN</td>\n",
       "      <td>Winter Olympics 2022</td>\n",
       "      <td>NaN</td>\n",
       "      <td>0.000000</td>\n",
       "    </tr>\n",
       "    <tr>\n",
       "      <th>4013</th>\n",
       "      <td>NaN</td>\n",
       "      <td>NaN</td>\n",
       "      <td>NaN</td>\n",
       "      <td>Yemen</td>\n",
       "      <td>2022-11-24 04:21:09</td>\n",
       "      <td>15.552727</td>\n",
       "      <td>48.516388</td>\n",
       "      <td>11945</td>\n",
       "      <td>2159</td>\n",
       "      <td>NaN</td>\n",
       "      <td>NaN</td>\n",
       "      <td>Yemen</td>\n",
       "      <td>40.048994</td>\n",
       "      <td>18.074508</td>\n",
       "    </tr>\n",
       "    <tr>\n",
       "      <th>4014</th>\n",
       "      <td>NaN</td>\n",
       "      <td>NaN</td>\n",
       "      <td>NaN</td>\n",
       "      <td>Zambia</td>\n",
       "      <td>2022-11-24 04:21:09</td>\n",
       "      <td>-13.133897</td>\n",
       "      <td>27.849332</td>\n",
       "      <td>333721</td>\n",
       "      <td>4019</td>\n",
       "      <td>NaN</td>\n",
       "      <td>NaN</td>\n",
       "      <td>Zambia</td>\n",
       "      <td>1815.283936</td>\n",
       "      <td>1.204299</td>\n",
       "    </tr>\n",
       "    <tr>\n",
       "      <th>4015</th>\n",
       "      <td>NaN</td>\n",
       "      <td>NaN</td>\n",
       "      <td>NaN</td>\n",
       "      <td>Zimbabwe</td>\n",
       "      <td>2022-11-24 04:21:09</td>\n",
       "      <td>-19.015438</td>\n",
       "      <td>29.154857</td>\n",
       "      <td>257893</td>\n",
       "      <td>5606</td>\n",
       "      <td>NaN</td>\n",
       "      <td>NaN</td>\n",
       "      <td>Zimbabwe</td>\n",
       "      <td>1735.142748</td>\n",
       "      <td>2.173770</td>\n",
       "    </tr>\n",
       "  </tbody>\n",
       "</table>\n",
       "</div>"
      ],
      "text/plain": [
       "      FIPS Admin2 Province_State        Country_Region          Last_Update  \\\n",
       "4011   NaN    NaN            NaN    West Bank and Gaza  2022-11-24 04:21:09   \n",
       "4012   NaN    NaN            NaN  Winter Olympics 2022  2022-11-24 04:21:09   \n",
       "4013   NaN    NaN            NaN                 Yemen  2022-11-24 04:21:09   \n",
       "4014   NaN    NaN            NaN                Zambia  2022-11-24 04:21:09   \n",
       "4015   NaN    NaN            NaN              Zimbabwe  2022-11-24 04:21:09   \n",
       "\n",
       "            Lat       Long_  Confirmed  Deaths  Recovered  Active  \\\n",
       "4011  31.952200   35.233200     703036    5708        NaN     NaN   \n",
       "4012  39.904200  116.407400        535       0        NaN     NaN   \n",
       "4013  15.552727   48.516388      11945    2159        NaN     NaN   \n",
       "4014 -13.133897   27.849332     333721    4019        NaN     NaN   \n",
       "4015 -19.015438   29.154857     257893    5606        NaN     NaN   \n",
       "\n",
       "              Combined_Key  Incident_Rate  Case_Fatality_Ratio  \n",
       "4011    West Bank and Gaza   13781.193300             0.811907  \n",
       "4012  Winter Olympics 2022            NaN             0.000000  \n",
       "4013                 Yemen      40.048994            18.074508  \n",
       "4014                Zambia    1815.283936             1.204299  \n",
       "4015              Zimbabwe    1735.142748             2.173770  "
      ]
     },
     "execution_count": 57,
     "metadata": {},
     "output_type": "execute_result"
    }
   ],
   "source": [
    "covid.tail()"
   ]
  },
  {
   "cell_type": "code",
   "execution_count": 58,
   "metadata": {},
   "outputs": [
    {
     "data": {
      "text/plain": [
       "array(['Afghanistan', 'Albania', 'Algeria', 'Andorra', 'Angola',\n",
       "       'Antarctica', 'Antigua and Barbuda', 'Argentina', 'Armenia',\n",
       "       'Australia', 'Austria', 'Azerbaijan', 'Bahamas', 'Bahrain',\n",
       "       'Bangladesh', 'Barbados', 'Belarus', 'Belgium', 'Belize', 'Benin',\n",
       "       'Bhutan', 'Bolivia', 'Bosnia and Herzegovina', 'Botswana',\n",
       "       'Brazil', 'Brunei', 'Bulgaria', 'Burkina Faso', 'Burma', 'Burundi',\n",
       "       'Cabo Verde', 'Cambodia', 'Cameroon', 'Canada',\n",
       "       'Central African Republic', 'Chad', 'Chile', 'China', 'Colombia',\n",
       "       'Comoros', 'Congo (Brazzaville)', 'Congo (Kinshasa)', 'Costa Rica',\n",
       "       \"Cote d'Ivoire\", 'Croatia', 'Cuba', 'Cyprus', 'Czechia', 'Denmark',\n",
       "       'Diamond Princess', 'Djibouti', 'Dominica', 'Dominican Republic',\n",
       "       'Ecuador', 'Egypt', 'El Salvador', 'Equatorial Guinea', 'Eritrea',\n",
       "       'Estonia', 'Eswatini', 'Ethiopia', 'Fiji', 'Finland', 'France',\n",
       "       'Gabon', 'Gambia', 'Georgia', 'Germany', 'Ghana', 'Greece',\n",
       "       'Grenada', 'Guatemala', 'Guinea', 'Guinea-Bissau', 'Guyana',\n",
       "       'Haiti', 'Holy See', 'Honduras', 'Hungary', 'Iceland', 'India',\n",
       "       'Indonesia', 'Iran', 'Iraq', 'Ireland', 'Israel', 'Italy',\n",
       "       'Jamaica', 'Japan', 'Jordan', 'Kazakhstan', 'Kenya', 'Kiribati',\n",
       "       'Korea, North', 'Korea, South', 'Kosovo', 'Kuwait', 'Kyrgyzstan',\n",
       "       'Laos', 'Latvia', 'Lebanon', 'Lesotho', 'Liberia', 'Libya',\n",
       "       'Liechtenstein', 'Lithuania', 'Luxembourg', 'MS Zaandam',\n",
       "       'Madagascar', 'Malawi', 'Malaysia', 'Maldives', 'Mali', 'Malta',\n",
       "       'Marshall Islands', 'Mauritania', 'Mauritius', 'Mexico',\n",
       "       'Micronesia', 'Moldova', 'Monaco', 'Mongolia', 'Montenegro',\n",
       "       'Morocco', 'Mozambique', 'Namibia', 'Nauru', 'Nepal',\n",
       "       'Netherlands', 'New Zealand', 'Nicaragua', 'Niger', 'Nigeria',\n",
       "       'North Macedonia', 'Norway', 'Oman', 'Pakistan', 'Palau', 'Panama',\n",
       "       'Papua New Guinea', 'Paraguay', 'Peru', 'Philippines', 'Poland',\n",
       "       'Portugal', 'Qatar', 'Romania', 'Russia', 'Rwanda',\n",
       "       'Saint Kitts and Nevis', 'Saint Lucia',\n",
       "       'Saint Vincent and the Grenadines', 'Samoa', 'San Marino',\n",
       "       'Sao Tome and Principe', 'Saudi Arabia', 'Senegal', 'Serbia',\n",
       "       'Seychelles', 'Sierra Leone', 'Singapore', 'Slovakia', 'Slovenia',\n",
       "       'Solomon Islands', 'Somalia', 'South Africa', 'South Sudan',\n",
       "       'Spain', 'Sri Lanka', 'Sudan', 'Summer Olympics 2020', 'Suriname',\n",
       "       'Sweden', 'Switzerland', 'Syria', 'Taiwan*', 'Tajikistan',\n",
       "       'Tanzania', 'Thailand', 'Timor-Leste', 'Togo', 'Tonga',\n",
       "       'Trinidad and Tobago', 'Tunisia', 'Turkey', 'Tuvalu', 'US',\n",
       "       'Uganda', 'Ukraine', 'United Arab Emirates', 'United Kingdom',\n",
       "       'Uruguay', 'Uzbekistan', 'Vanuatu', 'Venezuela', 'Vietnam',\n",
       "       'West Bank and Gaza', 'Winter Olympics 2022', 'Yemen', 'Zambia',\n",
       "       'Zimbabwe'], dtype=object)"
      ]
     },
     "execution_count": 58,
     "metadata": {},
     "output_type": "execute_result"
    }
   ],
   "source": [
    "covid['Country_Region'].unique()"
   ]
  },
  {
   "cell_type": "code",
   "execution_count": 59,
   "metadata": {},
   "outputs": [
    {
     "data": {
      "text/plain": [
       "201"
      ]
     },
     "execution_count": 59,
     "metadata": {},
     "output_type": "execute_result"
    }
   ],
   "source": [
    "covid['Country_Region'].nunique()"
   ]
  },
  {
   "cell_type": "code",
   "execution_count": 60,
   "metadata": {},
   "outputs": [
    {
     "name": "stdout",
     "output_type": "stream",
     "text": [
      "<class 'pandas.core.frame.DataFrame'>\n",
      "RangeIndex: 4016 entries, 0 to 4015\n",
      "Data columns (total 14 columns):\n",
      " #   Column               Non-Null Count  Dtype  \n",
      "---  ------               --------------  -----  \n",
      " 0   FIPS                 3268 non-null   float64\n",
      " 1   Admin2               3272 non-null   object \n",
      " 2   Province_State       3837 non-null   object \n",
      " 3   Country_Region       4016 non-null   object \n",
      " 4   Last_Update          4016 non-null   object \n",
      " 5   Lat                  3925 non-null   float64\n",
      " 6   Long_                3925 non-null   float64\n",
      " 7   Confirmed            4016 non-null   int64  \n",
      " 8   Deaths               4016 non-null   int64  \n",
      " 9   Recovered            0 non-null      float64\n",
      " 10  Active               0 non-null      float64\n",
      " 11  Combined_Key         4016 non-null   object \n",
      " 12  Incident_Rate        3922 non-null   float64\n",
      " 13  Case_Fatality_Ratio  3974 non-null   float64\n",
      "dtypes: float64(7), int64(2), object(5)\n",
      "memory usage: 439.4+ KB\n"
     ]
    }
   ],
   "source": [
    "covid.info()"
   ]
  },
  {
   "cell_type": "code",
   "execution_count": 61,
   "metadata": {},
   "outputs": [
    {
     "data": {
      "text/plain": [
       "0            Afghanistan\n",
       "1                Albania\n",
       "2                Algeria\n",
       "3                Andorra\n",
       "4                 Angola\n",
       "5             Antarctica\n",
       "6    Antigua and Barbuda\n",
       "7              Argentina\n",
       "8                Armenia\n",
       "9              Australia\n",
       "Name: Country_Region, dtype: object"
      ]
     },
     "execution_count": 61,
     "metadata": {},
     "output_type": "execute_result"
    }
   ],
   "source": [
    "covid['Country_Region'].head(10)"
   ]
  },
  {
   "cell_type": "code",
   "execution_count": 62,
   "metadata": {},
   "outputs": [],
   "source": [
    "df1 = covid[['Country_Region','Confirmed','Incident_Rate','Deaths']]"
   ]
  },
  {
   "cell_type": "code",
   "execution_count": 63,
   "metadata": {},
   "outputs": [
    {
     "data": {
      "text/html": [
       "<div>\n",
       "<style scoped>\n",
       "    .dataframe tbody tr th:only-of-type {\n",
       "        vertical-align: middle;\n",
       "    }\n",
       "\n",
       "    .dataframe tbody tr th {\n",
       "        vertical-align: top;\n",
       "    }\n",
       "\n",
       "    .dataframe thead th {\n",
       "        text-align: right;\n",
       "    }\n",
       "</style>\n",
       "<table border=\"1\" class=\"dataframe\">\n",
       "  <thead>\n",
       "    <tr style=\"text-align: right;\">\n",
       "      <th></th>\n",
       "      <th>Country_Region</th>\n",
       "      <th>Confirmed</th>\n",
       "      <th>Incident_Rate</th>\n",
       "      <th>Deaths</th>\n",
       "    </tr>\n",
       "  </thead>\n",
       "  <tbody>\n",
       "    <tr>\n",
       "      <th>0</th>\n",
       "      <td>Afghanistan</td>\n",
       "      <td>205391</td>\n",
       "      <td>527.613031</td>\n",
       "      <td>7833</td>\n",
       "    </tr>\n",
       "    <tr>\n",
       "      <th>1</th>\n",
       "      <td>Albania</td>\n",
       "      <td>333293</td>\n",
       "      <td>11581.520606</td>\n",
       "      <td>3594</td>\n",
       "    </tr>\n",
       "    <tr>\n",
       "      <th>2</th>\n",
       "      <td>Algeria</td>\n",
       "      <td>271041</td>\n",
       "      <td>618.094762</td>\n",
       "      <td>6881</td>\n",
       "    </tr>\n",
       "    <tr>\n",
       "      <th>3</th>\n",
       "      <td>Andorra</td>\n",
       "      <td>46824</td>\n",
       "      <td>60601.824888</td>\n",
       "      <td>156</td>\n",
       "    </tr>\n",
       "    <tr>\n",
       "      <th>4</th>\n",
       "      <td>Angola</td>\n",
       "      <td>104491</td>\n",
       "      <td>317.927791</td>\n",
       "      <td>1923</td>\n",
       "    </tr>\n",
       "    <tr>\n",
       "      <th>...</th>\n",
       "      <td>...</td>\n",
       "      <td>...</td>\n",
       "      <td>...</td>\n",
       "      <td>...</td>\n",
       "    </tr>\n",
       "    <tr>\n",
       "      <th>4011</th>\n",
       "      <td>West Bank and Gaza</td>\n",
       "      <td>703036</td>\n",
       "      <td>13781.193300</td>\n",
       "      <td>5708</td>\n",
       "    </tr>\n",
       "    <tr>\n",
       "      <th>4012</th>\n",
       "      <td>Winter Olympics 2022</td>\n",
       "      <td>535</td>\n",
       "      <td>NaN</td>\n",
       "      <td>0</td>\n",
       "    </tr>\n",
       "    <tr>\n",
       "      <th>4013</th>\n",
       "      <td>Yemen</td>\n",
       "      <td>11945</td>\n",
       "      <td>40.048994</td>\n",
       "      <td>2159</td>\n",
       "    </tr>\n",
       "    <tr>\n",
       "      <th>4014</th>\n",
       "      <td>Zambia</td>\n",
       "      <td>333721</td>\n",
       "      <td>1815.283936</td>\n",
       "      <td>4019</td>\n",
       "    </tr>\n",
       "    <tr>\n",
       "      <th>4015</th>\n",
       "      <td>Zimbabwe</td>\n",
       "      <td>257893</td>\n",
       "      <td>1735.142748</td>\n",
       "      <td>5606</td>\n",
       "    </tr>\n",
       "  </tbody>\n",
       "</table>\n",
       "<p>4016 rows × 4 columns</p>\n",
       "</div>"
      ],
      "text/plain": [
       "            Country_Region  Confirmed  Incident_Rate  Deaths\n",
       "0              Afghanistan     205391     527.613031    7833\n",
       "1                  Albania     333293   11581.520606    3594\n",
       "2                  Algeria     271041     618.094762    6881\n",
       "3                  Andorra      46824   60601.824888     156\n",
       "4                   Angola     104491     317.927791    1923\n",
       "...                    ...        ...            ...     ...\n",
       "4011    West Bank and Gaza     703036   13781.193300    5708\n",
       "4012  Winter Olympics 2022        535            NaN       0\n",
       "4013                 Yemen      11945      40.048994    2159\n",
       "4014                Zambia     333721    1815.283936    4019\n",
       "4015              Zimbabwe     257893    1735.142748    5606\n",
       "\n",
       "[4016 rows x 4 columns]"
      ]
     },
     "execution_count": 63,
     "metadata": {},
     "output_type": "execute_result"
    }
   ],
   "source": [
    "df1\n"
   ]
  },
  {
   "cell_type": "code",
   "execution_count": 64,
   "metadata": {},
   "outputs": [
    {
     "data": {
      "text/html": [
       "<div>\n",
       "<style scoped>\n",
       "    .dataframe tbody tr th:only-of-type {\n",
       "        vertical-align: middle;\n",
       "    }\n",
       "\n",
       "    .dataframe tbody tr th {\n",
       "        vertical-align: top;\n",
       "    }\n",
       "\n",
       "    .dataframe thead th {\n",
       "        text-align: right;\n",
       "    }\n",
       "</style>\n",
       "<table border=\"1\" class=\"dataframe\">\n",
       "  <thead>\n",
       "    <tr style=\"text-align: right;\">\n",
       "      <th></th>\n",
       "      <th>Country_Region</th>\n",
       "      <th>Confirmed</th>\n",
       "      <th>Incident_Rate</th>\n",
       "      <th>Deaths</th>\n",
       "    </tr>\n",
       "  </thead>\n",
       "  <tbody>\n",
       "    <tr>\n",
       "      <th>1</th>\n",
       "      <td>Albania</td>\n",
       "      <td>333293</td>\n",
       "      <td>11581.520606</td>\n",
       "      <td>3594</td>\n",
       "    </tr>\n",
       "    <tr>\n",
       "      <th>2</th>\n",
       "      <td>Algeria</td>\n",
       "      <td>271041</td>\n",
       "      <td>618.094762</td>\n",
       "      <td>6881</td>\n",
       "    </tr>\n",
       "    <tr>\n",
       "      <th>3</th>\n",
       "      <td>Andorra</td>\n",
       "      <td>46824</td>\n",
       "      <td>60601.824888</td>\n",
       "      <td>156</td>\n",
       "    </tr>\n",
       "  </tbody>\n",
       "</table>\n",
       "</div>"
      ],
      "text/plain": [
       "  Country_Region  Confirmed  Incident_Rate  Deaths\n",
       "1        Albania     333293   11581.520606    3594\n",
       "2        Algeria     271041     618.094762    6881\n",
       "3        Andorra      46824   60601.824888     156"
      ]
     },
     "execution_count": 64,
     "metadata": {},
     "output_type": "execute_result"
    }
   ],
   "source": [
    "df1.iloc[1:4]"
   ]
  },
  {
   "cell_type": "code",
   "execution_count": 65,
   "metadata": {},
   "outputs": [
    {
     "data": {
      "text/html": [
       "<div>\n",
       "<style scoped>\n",
       "    .dataframe tbody tr th:only-of-type {\n",
       "        vertical-align: middle;\n",
       "    }\n",
       "\n",
       "    .dataframe tbody tr th {\n",
       "        vertical-align: top;\n",
       "    }\n",
       "\n",
       "    .dataframe thead th {\n",
       "        text-align: right;\n",
       "    }\n",
       "</style>\n",
       "<table border=\"1\" class=\"dataframe\">\n",
       "  <thead>\n",
       "    <tr style=\"text-align: right;\">\n",
       "      <th></th>\n",
       "      <th>Country_Region</th>\n",
       "      <th>Confirmed</th>\n",
       "      <th>Incident_Rate</th>\n",
       "      <th>Deaths</th>\n",
       "    </tr>\n",
       "  </thead>\n",
       "  <tbody>\n",
       "    <tr>\n",
       "      <th>485</th>\n",
       "      <td>Papua New Guinea</td>\n",
       "      <td>45819</td>\n",
       "      <td>512.114248</td>\n",
       "      <td>668</td>\n",
       "    </tr>\n",
       "  </tbody>\n",
       "</table>\n",
       "</div>"
      ],
      "text/plain": [
       "       Country_Region  Confirmed  Incident_Rate  Deaths\n",
       "485  Papua New Guinea      45819     512.114248     668"
      ]
     },
     "execution_count": 65,
     "metadata": {},
     "output_type": "execute_result"
    }
   ],
   "source": [
    "df1.loc[df1['Country_Region'] == 'Papua New Guinea']"
   ]
  },
  {
   "cell_type": "code",
   "execution_count": 66,
   "metadata": {},
   "outputs": [
    {
     "data": {
      "text/plain": [
       "'Sorted Data Frame'"
      ]
     },
     "metadata": {},
     "output_type": "display_data"
    },
    {
     "data": {
      "text/html": [
       "<div>\n",
       "<style scoped>\n",
       "    .dataframe tbody tr th:only-of-type {\n",
       "        vertical-align: middle;\n",
       "    }\n",
       "\n",
       "    .dataframe tbody tr th {\n",
       "        vertical-align: top;\n",
       "    }\n",
       "\n",
       "    .dataframe thead th {\n",
       "        text-align: right;\n",
       "    }\n",
       "</style>\n",
       "<table border=\"1\" class=\"dataframe\">\n",
       "  <thead>\n",
       "    <tr style=\"text-align: right;\">\n",
       "      <th></th>\n",
       "      <th>Country_Region</th>\n",
       "      <th>Confirmed</th>\n",
       "      <th>Incident_Rate</th>\n",
       "      <th>Deaths</th>\n",
       "    </tr>\n",
       "  </thead>\n",
       "  <tbody>\n",
       "    <tr>\n",
       "      <th>0</th>\n",
       "      <td>Afghanistan</td>\n",
       "      <td>205391</td>\n",
       "      <td>527.613031</td>\n",
       "      <td>7833</td>\n",
       "    </tr>\n",
       "    <tr>\n",
       "      <th>1</th>\n",
       "      <td>Albania</td>\n",
       "      <td>333293</td>\n",
       "      <td>11581.520606</td>\n",
       "      <td>3594</td>\n",
       "    </tr>\n",
       "    <tr>\n",
       "      <th>2</th>\n",
       "      <td>Algeria</td>\n",
       "      <td>271041</td>\n",
       "      <td>618.094762</td>\n",
       "      <td>6881</td>\n",
       "    </tr>\n",
       "    <tr>\n",
       "      <th>3</th>\n",
       "      <td>Andorra</td>\n",
       "      <td>46824</td>\n",
       "      <td>60601.824888</td>\n",
       "      <td>156</td>\n",
       "    </tr>\n",
       "    <tr>\n",
       "      <th>4</th>\n",
       "      <td>Angola</td>\n",
       "      <td>104491</td>\n",
       "      <td>317.927791</td>\n",
       "      <td>1923</td>\n",
       "    </tr>\n",
       "  </tbody>\n",
       "</table>\n",
       "</div>"
      ],
      "text/plain": [
       "  Country_Region  Confirmed  Incident_Rate  Deaths\n",
       "0    Afghanistan     205391     527.613031    7833\n",
       "1        Albania     333293   11581.520606    3594\n",
       "2        Algeria     271041     618.094762    6881\n",
       "3        Andorra      46824   60601.824888     156\n",
       "4         Angola     104491     317.927791    1923"
      ]
     },
     "metadata": {},
     "output_type": "display_data"
    }
   ],
   "source": [
    "display('Sorted Data Frame', df1.sort_values(['Country_Region'], ascending = True).head(5))"
   ]
  },
  {
   "cell_type": "code",
   "execution_count": 68,
   "metadata": {},
   "outputs": [
    {
     "data": {
      "text/plain": [
       "'Sorted Data Frame'"
      ]
     },
     "metadata": {},
     "output_type": "display_data"
    },
    {
     "data": {
      "text/html": [
       "<div>\n",
       "<style scoped>\n",
       "    .dataframe tbody tr th:only-of-type {\n",
       "        vertical-align: middle;\n",
       "    }\n",
       "\n",
       "    .dataframe tbody tr th {\n",
       "        vertical-align: top;\n",
       "    }\n",
       "\n",
       "    .dataframe thead th {\n",
       "        text-align: right;\n",
       "    }\n",
       "</style>\n",
       "<table border=\"1\" class=\"dataframe\">\n",
       "  <thead>\n",
       "    <tr style=\"text-align: right;\">\n",
       "      <th></th>\n",
       "      <th>Country_Region</th>\n",
       "      <th>Confirmed</th>\n",
       "      <th>Incident_Rate</th>\n",
       "      <th>Deaths</th>\n",
       "    </tr>\n",
       "  </thead>\n",
       "  <tbody>\n",
       "    <tr>\n",
       "      <th>0</th>\n",
       "      <td>Afghanistan</td>\n",
       "      <td>205391</td>\n",
       "      <td>527.613031</td>\n",
       "      <td>7833</td>\n",
       "    </tr>\n",
       "    <tr>\n",
       "      <th>1</th>\n",
       "      <td>Albania</td>\n",
       "      <td>333293</td>\n",
       "      <td>11581.520606</td>\n",
       "      <td>3594</td>\n",
       "    </tr>\n",
       "    <tr>\n",
       "      <th>2</th>\n",
       "      <td>Algeria</td>\n",
       "      <td>271041</td>\n",
       "      <td>618.094762</td>\n",
       "      <td>6881</td>\n",
       "    </tr>\n",
       "    <tr>\n",
       "      <th>3</th>\n",
       "      <td>Andorra</td>\n",
       "      <td>46824</td>\n",
       "      <td>60601.824888</td>\n",
       "      <td>156</td>\n",
       "    </tr>\n",
       "    <tr>\n",
       "      <th>4</th>\n",
       "      <td>Angola</td>\n",
       "      <td>104491</td>\n",
       "      <td>317.927791</td>\n",
       "      <td>1923</td>\n",
       "    </tr>\n",
       "  </tbody>\n",
       "</table>\n",
       "</div>"
      ],
      "text/plain": [
       "  Country_Region  Confirmed  Incident_Rate  Deaths\n",
       "0    Afghanistan     205391     527.613031    7833\n",
       "1        Albania     333293   11581.520606    3594\n",
       "2        Algeria     271041     618.094762    6881\n",
       "3        Andorra      46824   60601.824888     156\n",
       "4         Angola     104491     317.927791    1923"
      ]
     },
     "metadata": {},
     "output_type": "display_data"
    }
   ],
   "source": [
    "display('Sorted Data Frame', df1.sort_values(['Country_Region','Incident_Rate'], ascending = True).head(5))"
   ]
  },
  {
   "cell_type": "code",
   "execution_count": 70,
   "metadata": {},
   "outputs": [
    {
     "data": {
      "text/plain": [
       "Country_Region    Indonesia\n",
       "Confirmed           6627538\n",
       "Name: 287, dtype: object"
      ]
     },
     "metadata": {},
     "output_type": "display_data"
    }
   ],
   "source": [
    "for index, row in df1.iterrows():\n",
    "    if(row['Country_Region'] == 'Indonesia'):\n",
    "        display(row[['Country_Region','Confirmed']]) # datada tek bir endonesia sonucu var diye 1 tane gösterdi"
   ]
  },
  {
   "cell_type": "code",
   "execution_count": 73,
   "metadata": {},
   "outputs": [
    {
     "data": {
      "text/plain": [
       "0            Afghanistan\n",
       "1                Albania\n",
       "2                Algeria\n",
       "3                Andorra\n",
       "4                 Angola\n",
       "5             Antarctica\n",
       "6    Antigua and Barbuda\n",
       "7              Argentina\n",
       "8                Armenia\n",
       "9              Australia\n",
       "Name: Country_Region, dtype: object"
      ]
     },
     "execution_count": 73,
     "metadata": {},
     "output_type": "execute_result"
    }
   ],
   "source": [
    "covid['Country_Region'].drop_duplicates(keep='first').head(10) #ilk tekrar edeni bırakarak tekrar eden sonuçları kısıtlıyor."
   ]
  },
  {
   "cell_type": "code",
   "execution_count": null,
   "metadata": {},
   "outputs": [],
   "source": []
  }
 ],
 "metadata": {
  "kernelspec": {
   "display_name": "Python 3.10.5 64-bit",
   "language": "python",
   "name": "python3"
  },
  "language_info": {
   "codemirror_mode": {
    "name": "ipython",
    "version": 3
   },
   "file_extension": ".py",
   "mimetype": "text/x-python",
   "name": "python",
   "nbconvert_exporter": "python",
   "pygments_lexer": "ipython3",
   "version": "3.10.5"
  },
  "orig_nbformat": 4,
  "vscode": {
   "interpreter": {
    "hash": "55112f57a8570bdf5f391b79fc0caed42d28da96e3ee50ae565d0577f4712918"
   }
  }
 },
 "nbformat": 4,
 "nbformat_minor": 2
}
