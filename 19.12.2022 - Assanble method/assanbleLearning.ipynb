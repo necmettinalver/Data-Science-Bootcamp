{
 "cells": [
  {
   "cell_type": "code",
   "execution_count": 7,
   "metadata": {},
   "outputs": [],
   "source": [
    "# - Assanble Learning: Birden fazla algoritmanın sonuçlarından; çoğunluk seçimi yapılıyor.\n",
    "#Böylece doğruluk oranını artırmayı hedefliyoruz."
   ]
  },
  {
   "cell_type": "code",
   "execution_count": 8,
   "metadata": {},
   "outputs": [
    {
     "data": {
      "text/plain": [
       "'\\nmodel1 = tree.DecisionTreeClassifier()\\nmodel2 = KNeighborsClassifier()\\nmodel3 = LogisticRegression()\\n\\nmodel1.fit(X_Train,y_Train)\\nmodel2.fit(X_Train,y_Train)\\nmodel3.fit(X_Train,y_Train)\\n\\npred1= model1.predict(x_Test)\\npred2= model2.predict(x_Test)\\npred3= model3.predict(x_Test)\\n\\nfinal_pred = np.array([])\\nfor i in range(0,len(x_test)):\\n    final_pred = np.append(final_pred, model([[pred1[i],pred2[i],pred3[i]]))\\n'"
      ]
     },
     "execution_count": 8,
     "metadata": {},
     "output_type": "execute_result"
    }
   ],
   "source": [
    "#Max Voting: Genellikle sınıflandırma problemlerinde kullanılır. Her bir model tahminine bir vote(oy) adı verilir.\n",
    "\n",
    "\"\"\"\n",
    "model1 = tree.DecisionTreeClassifier()\n",
    "model2 = KNeighborsClassifier()\n",
    "model3 = LogisticRegression()\n",
    "\n",
    "model1.fit(X_Train,y_Train)\n",
    "model2.fit(X_Train,y_Train)\n",
    "model3.fit(X_Train,y_Train)\n",
    "\n",
    "pred1= model1.predict(x_Test)\n",
    "pred2= model2.predict(x_Test)\n",
    "pred3= model3.predict(x_Test)\n",
    "\n",
    "final_pred = np.array([])\n",
    "for i in range(0,len(x_test)):\n",
    "    final_pred = np.append(final_pred, model([[pred1[i],pred2[i],pred3[i]]))\n",
    "\"\"\""
   ]
  },
  {
   "cell_type": "code",
   "execution_count": 9,
   "metadata": {},
   "outputs": [
    {
     "data": {
      "text/plain": [
       "'\\nmodel1 = tree.DecisionTreeClassifier()\\nmodel2 = KNeighborsClassifier()\\nmodel3 = LogisticRegression()\\n\\nmodel1.fit(X_Train,y_Train)\\nmodel2.fit(X_Train,y_Train)\\nmodel3.fit(X_Train,y_Train)\\n\\npred1= model1.predict_proba(x_Test)\\npred2= model2.predict_proba(x_Test)\\npred3= model3.predict_proba(x_Test)\\n\\nfinal_pred = (pred1+pred2+pred3)/3\\n'"
      ]
     },
     "execution_count": 9,
     "metadata": {},
     "output_type": "execute_result"
    }
   ],
   "source": [
    "#Averaging (Ortalama)\n",
    "\n",
    "\"\"\"\n",
    "model1 = tree.DecisionTreeClassifier()\n",
    "model2 = KNeighborsClassifier()\n",
    "model3 = LogisticRegression()\n",
    "\n",
    "model1.fit(X_Train,y_Train)\n",
    "model2.fit(X_Train,y_Train)\n",
    "model3.fit(X_Train,y_Train)\n",
    "\n",
    "pred1= model1.predict_proba(x_Test)\n",
    "pred2= model2.predict_proba(x_Test)\n",
    "pred3= model3.predict_proba(x_Test)\n",
    "\n",
    "final_pred = (pred1+pred2+pred3)/3\n",
    "\"\"\""
   ]
  },
  {
   "cell_type": "code",
   "execution_count": 10,
   "metadata": {},
   "outputs": [
    {
     "data": {
      "text/plain": [
       "'\\nmodel1 = tree.DecisionTreeClassifier()\\nmodel2 = KNeighborsClassifier()\\nmodel3 = LogisticRegression()\\n\\nmodel1.fit(X_Train,y_Train)\\nmodel2.fit(X_Train,y_Train)\\nmodel3.fit(X_Train,y_Train)\\n\\npred1= model1.predict_proba(x_Test)\\npred2= model2.predict_proba(x_Test)\\npred3= model3.predict_proba(x_Test)\\n\\nfinal_pred = (pred1*0.3+pred2*0.3+pred3*0.4)/3\\n'"
      ]
     },
     "execution_count": 10,
     "metadata": {},
     "output_type": "execute_result"
    }
   ],
   "source": [
    "#Weighted Average (Ağırlıklandırılmış Ortalama)\n",
    "\n",
    "\"\"\"\n",
    "model1 = tree.DecisionTreeClassifier()\n",
    "model2 = KNeighborsClassifier()\n",
    "model3 = LogisticRegression()\n",
    "\n",
    "model1.fit(X_Train,y_Train)\n",
    "model2.fit(X_Train,y_Train)\n",
    "model3.fit(X_Train,y_Train)\n",
    "\n",
    "pred1= model1.predict_proba(x_Test)\n",
    "pred2= model2.predict_proba(x_Test)\n",
    "pred3= model3.predict_proba(x_Test)\n",
    "\n",
    "final_pred = (pred1*0.3+pred2*0.3+pred3*0.4)/3\n",
    "\"\"\""
   ]
  },
  {
   "cell_type": "code",
   "execution_count": 11,
   "metadata": {},
   "outputs": [],
   "source": [
    "#Ensemble\n",
    "#-baggid, -Bosting, -Stacking, -Blending, -Cascading"
   ]
  },
  {
   "cell_type": "code",
   "execution_count": 12,
   "metadata": {},
   "outputs": [],
   "source": [
    "#Bagging (Bootstrapped Aggregation): Variance azaltmak için kullanılır. Örnek:Random Forest\n",
    "#Boosting: AdaBoost, GBM, XGBM, Light GBM, CatBoost\n",
    "#Stacking (Stacked Generalization): İndirgediği tek modele meta-classifier denmektedir.\n",
    "#Blending: Final tahmini için Weighted Averaging kullanılır. Eğitim kümesini training + validation olarak ayırır.\n",
    "#Cascading: (en iyilerinden biri) tek bir modele güvenmektense kaskat bağlanan modellerden elde edilen sonuçlar daha güvenilirdir."
   ]
  },
  {
   "cell_type": "code",
   "execution_count": 13,
   "metadata": {},
   "outputs": [],
   "source": [
    "from sklearn.ensemble import BaggingClassifier\n",
    "import pandas as pd\n",
    "import numpy as np\n",
    "from sklearn.neighbors import KNeighborsClassifier"
   ]
  },
  {
   "cell_type": "code",
   "execution_count": 14,
   "metadata": {},
   "outputs": [],
   "source": [
    "from sklearn.datasets import load_wine\n",
    "dataset = load_wine()\n",
    "X=dataset.data\n",
    "y=dataset.target"
   ]
  },
  {
   "cell_type": "code",
   "execution_count": 15,
   "metadata": {},
   "outputs": [],
   "source": [
    "from sklearn.model_selection import train_test_split\n",
    "X_train, X_test, y_train, y_test = train_test_split(X, y, test_size=0.2, random_state =3)"
   ]
  },
  {
   "cell_type": "code",
   "execution_count": 16,
   "metadata": {},
   "outputs": [
    {
     "data": {
      "text/plain": [
       "0.6388888888888888"
      ]
     },
     "execution_count": 16,
     "metadata": {},
     "output_type": "execute_result"
    }
   ],
   "source": [
    "knn = KNeighborsClassifier(n_neighbors=5)\n",
    "knn.fit(X_train, y_train)\n",
    "knn.score(X_test, y_test)"
   ]
  },
  {
   "cell_type": "code",
   "execution_count": 24,
   "metadata": {},
   "outputs": [
    {
     "data": {
      "text/plain": [
       "0.6944444444444444"
      ]
     },
     "execution_count": 24,
     "metadata": {},
     "output_type": "execute_result"
    }
   ],
   "source": [
    "bag_knn = BaggingClassifier(KNeighborsClassifier(n_neighbors = 5),#estimator\n",
    "                            n_estimators = 10,max_samples=0.5,\n",
    "                            bootstrap=True,random_state=3,oob_score=True)\n",
    "#bootstrap ve oob_score olmadanda sonuç aynı çıkıyor ne anlama geldiklerini araştır.\n",
    "bag_knn.fit(X_train, y_train)\n",
    "bag_knn.score(X_test, y_test)"
   ]
  },
  {
   "cell_type": "code",
   "execution_count": null,
   "metadata": {},
   "outputs": [],
   "source": [
    "#Explainable ML : kullandığımız modeli neye göre (shap) karar verdiğini ve neden sorusuna cevap verdiği için kullanılması güzel bir yapı. "
   ]
  }
 ],
 "metadata": {
  "kernelspec": {
   "display_name": "Python 3",
   "language": "python",
   "name": "python3"
  },
  "language_info": {
   "codemirror_mode": {
    "name": "ipython",
    "version": 3
   },
   "file_extension": ".py",
   "mimetype": "text/x-python",
   "name": "python",
   "nbconvert_exporter": "python",
   "pygments_lexer": "ipython3",
   "version": "3.10.5 (tags/v3.10.5:f377153, Jun  6 2022, 16:14:13) [MSC v.1929 64 bit (AMD64)]"
  },
  "orig_nbformat": 4,
  "vscode": {
   "interpreter": {
    "hash": "55112f57a8570bdf5f391b79fc0caed42d28da96e3ee50ae565d0577f4712918"
   }
  }
 },
 "nbformat": 4,
 "nbformat_minor": 2
}
